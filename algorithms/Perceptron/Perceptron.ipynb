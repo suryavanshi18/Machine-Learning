{
  "nbformat": 4,
  "nbformat_minor": 0,
  "metadata": {
    "colab": {
      "provenance": [],
      "authorship_tag": "ABX9TyPMW64EPxHCwNwacRrP0xnI",
      "include_colab_link": true
    },
    "kernelspec": {
      "name": "python3",
      "display_name": "Python 3"
    },
    "language_info": {
      "name": "python"
    }
  },
  "cells": [
    {
      "cell_type": "markdown",
      "metadata": {
        "id": "view-in-github",
        "colab_type": "text"
      },
      "source": [
        "<a href=\"https://colab.research.google.com/github/Abhs1897/Machine-Learning/blob/main/Perceptron.ipynb\" target=\"_parent\"><img src=\"https://colab.research.google.com/assets/colab-badge.svg\" alt=\"Open In Colab\"/></a>"
      ]
    },
    {
      "cell_type": "code",
      "execution_count": 67,
      "metadata": {
        "id": "6zZIe-bQV--P"
      },
      "outputs": [],
      "source": [
        "######################## Implmentation 1 ###########################################\n",
        "\n",
        "\n",
        "\n",
        "####################################################################################\n",
        "import numpy as np\n",
        "\n",
        "class Perceptron:\n",
        "  def __init__(self, learning_rate=0.01, n_iters=50):\n",
        "    self.lr = learning_rate\n",
        "    self.n_iters = n_iters\n",
        "\n",
        "  def fit(self, X, y):\n",
        "    self.weights = np.random.normal(loc=0.0,scale=1.0,size=X.shape[1])\n",
        "    self.bias=np.float_(0.0)\n",
        "    self.error_list=[]\n",
        "\n",
        "    for _ in range(self.n_iters):\n",
        "      errors=0\n",
        "      for xi,target in zip(X,y):\n",
        "        update=self.lr*(target-self.predict(xi))\n",
        "        self.weights+=update*xi\n",
        "        self.bias=update\n",
        "        errors+=int(update!=0.0)\n",
        "      self.error_list.append(errors)\n",
        "    return self\n",
        "  def net_input(self, X):\n",
        "    return np.dot(X, self.weights) + self.bias\n",
        "  def predict(self, X):\n",
        "    return np.where(self.net_input(X) >= 0.0, 1, 0)"
      ]
    },
    {
      "cell_type": "code",
      "source": [
        "import os\n",
        "import pandas as pd\n",
        "import matplotlib.pyplot as plt\n",
        "\n",
        "url= 'https://archive.ics.uci.edu/ml/machine-learning-databases/iris/iris.data'\n",
        "df=pd.read_csv(url,header=None,encoding='utf-8')\n",
        "df.sample(10)"
      ],
      "metadata": {
        "colab": {
          "base_uri": "https://localhost:8080/",
          "height": 363
        },
        "id": "nr1LM7Wgvyeb",
        "outputId": "a760388f-4100-4495-facb-f923950eb9e0"
      },
      "execution_count": 68,
      "outputs": [
        {
          "output_type": "execute_result",
          "data": {
            "text/plain": [
              "       0    1    2    3                4\n",
              "27   5.2  3.5  1.5  0.2      Iris-setosa\n",
              "28   5.2  3.4  1.4  0.2      Iris-setosa\n",
              "119  6.0  2.2  5.0  1.5   Iris-virginica\n",
              "144  6.7  3.3  5.7  2.5   Iris-virginica\n",
              "0    5.1  3.5  1.4  0.2      Iris-setosa\n",
              "97   6.2  2.9  4.3  1.3  Iris-versicolor\n",
              "10   5.4  3.7  1.5  0.2      Iris-setosa\n",
              "133  6.3  2.8  5.1  1.5   Iris-virginica\n",
              "36   5.5  3.5  1.3  0.2      Iris-setosa\n",
              "6    4.6  3.4  1.4  0.3      Iris-setosa"
            ],
            "text/html": [
              "\n",
              "  <div id=\"df-c1c1d717-fed5-46ea-80d6-096b9ec47c00\" class=\"colab-df-container\">\n",
              "    <div>\n",
              "<style scoped>\n",
              "    .dataframe tbody tr th:only-of-type {\n",
              "        vertical-align: middle;\n",
              "    }\n",
              "\n",
              "    .dataframe tbody tr th {\n",
              "        vertical-align: top;\n",
              "    }\n",
              "\n",
              "    .dataframe thead th {\n",
              "        text-align: right;\n",
              "    }\n",
              "</style>\n",
              "<table border=\"1\" class=\"dataframe\">\n",
              "  <thead>\n",
              "    <tr style=\"text-align: right;\">\n",
              "      <th></th>\n",
              "      <th>0</th>\n",
              "      <th>1</th>\n",
              "      <th>2</th>\n",
              "      <th>3</th>\n",
              "      <th>4</th>\n",
              "    </tr>\n",
              "  </thead>\n",
              "  <tbody>\n",
              "    <tr>\n",
              "      <th>27</th>\n",
              "      <td>5.2</td>\n",
              "      <td>3.5</td>\n",
              "      <td>1.5</td>\n",
              "      <td>0.2</td>\n",
              "      <td>Iris-setosa</td>\n",
              "    </tr>\n",
              "    <tr>\n",
              "      <th>28</th>\n",
              "      <td>5.2</td>\n",
              "      <td>3.4</td>\n",
              "      <td>1.4</td>\n",
              "      <td>0.2</td>\n",
              "      <td>Iris-setosa</td>\n",
              "    </tr>\n",
              "    <tr>\n",
              "      <th>119</th>\n",
              "      <td>6.0</td>\n",
              "      <td>2.2</td>\n",
              "      <td>5.0</td>\n",
              "      <td>1.5</td>\n",
              "      <td>Iris-virginica</td>\n",
              "    </tr>\n",
              "    <tr>\n",
              "      <th>144</th>\n",
              "      <td>6.7</td>\n",
              "      <td>3.3</td>\n",
              "      <td>5.7</td>\n",
              "      <td>2.5</td>\n",
              "      <td>Iris-virginica</td>\n",
              "    </tr>\n",
              "    <tr>\n",
              "      <th>0</th>\n",
              "      <td>5.1</td>\n",
              "      <td>3.5</td>\n",
              "      <td>1.4</td>\n",
              "      <td>0.2</td>\n",
              "      <td>Iris-setosa</td>\n",
              "    </tr>\n",
              "    <tr>\n",
              "      <th>97</th>\n",
              "      <td>6.2</td>\n",
              "      <td>2.9</td>\n",
              "      <td>4.3</td>\n",
              "      <td>1.3</td>\n",
              "      <td>Iris-versicolor</td>\n",
              "    </tr>\n",
              "    <tr>\n",
              "      <th>10</th>\n",
              "      <td>5.4</td>\n",
              "      <td>3.7</td>\n",
              "      <td>1.5</td>\n",
              "      <td>0.2</td>\n",
              "      <td>Iris-setosa</td>\n",
              "    </tr>\n",
              "    <tr>\n",
              "      <th>133</th>\n",
              "      <td>6.3</td>\n",
              "      <td>2.8</td>\n",
              "      <td>5.1</td>\n",
              "      <td>1.5</td>\n",
              "      <td>Iris-virginica</td>\n",
              "    </tr>\n",
              "    <tr>\n",
              "      <th>36</th>\n",
              "      <td>5.5</td>\n",
              "      <td>3.5</td>\n",
              "      <td>1.3</td>\n",
              "      <td>0.2</td>\n",
              "      <td>Iris-setosa</td>\n",
              "    </tr>\n",
              "    <tr>\n",
              "      <th>6</th>\n",
              "      <td>4.6</td>\n",
              "      <td>3.4</td>\n",
              "      <td>1.4</td>\n",
              "      <td>0.3</td>\n",
              "      <td>Iris-setosa</td>\n",
              "    </tr>\n",
              "  </tbody>\n",
              "</table>\n",
              "</div>\n",
              "    <div class=\"colab-df-buttons\">\n",
              "\n",
              "  <div class=\"colab-df-container\">\n",
              "    <button class=\"colab-df-convert\" onclick=\"convertToInteractive('df-c1c1d717-fed5-46ea-80d6-096b9ec47c00')\"\n",
              "            title=\"Convert this dataframe to an interactive table.\"\n",
              "            style=\"display:none;\">\n",
              "\n",
              "  <svg xmlns=\"http://www.w3.org/2000/svg\" height=\"24px\" viewBox=\"0 -960 960 960\">\n",
              "    <path d=\"M120-120v-720h720v720H120Zm60-500h600v-160H180v160Zm220 220h160v-160H400v160Zm0 220h160v-160H400v160ZM180-400h160v-160H180v160Zm440 0h160v-160H620v160ZM180-180h160v-160H180v160Zm440 0h160v-160H620v160Z\"/>\n",
              "  </svg>\n",
              "    </button>\n",
              "\n",
              "  <style>\n",
              "    .colab-df-container {\n",
              "      display:flex;\n",
              "      gap: 12px;\n",
              "    }\n",
              "\n",
              "    .colab-df-convert {\n",
              "      background-color: #E8F0FE;\n",
              "      border: none;\n",
              "      border-radius: 50%;\n",
              "      cursor: pointer;\n",
              "      display: none;\n",
              "      fill: #1967D2;\n",
              "      height: 32px;\n",
              "      padding: 0 0 0 0;\n",
              "      width: 32px;\n",
              "    }\n",
              "\n",
              "    .colab-df-convert:hover {\n",
              "      background-color: #E2EBFA;\n",
              "      box-shadow: 0px 1px 2px rgba(60, 64, 67, 0.3), 0px 1px 3px 1px rgba(60, 64, 67, 0.15);\n",
              "      fill: #174EA6;\n",
              "    }\n",
              "\n",
              "    .colab-df-buttons div {\n",
              "      margin-bottom: 4px;\n",
              "    }\n",
              "\n",
              "    [theme=dark] .colab-df-convert {\n",
              "      background-color: #3B4455;\n",
              "      fill: #D2E3FC;\n",
              "    }\n",
              "\n",
              "    [theme=dark] .colab-df-convert:hover {\n",
              "      background-color: #434B5C;\n",
              "      box-shadow: 0px 1px 3px 1px rgba(0, 0, 0, 0.15);\n",
              "      filter: drop-shadow(0px 1px 2px rgba(0, 0, 0, 0.3));\n",
              "      fill: #FFFFFF;\n",
              "    }\n",
              "  </style>\n",
              "\n",
              "    <script>\n",
              "      const buttonEl =\n",
              "        document.querySelector('#df-c1c1d717-fed5-46ea-80d6-096b9ec47c00 button.colab-df-convert');\n",
              "      buttonEl.style.display =\n",
              "        google.colab.kernel.accessAllowed ? 'block' : 'none';\n",
              "\n",
              "      async function convertToInteractive(key) {\n",
              "        const element = document.querySelector('#df-c1c1d717-fed5-46ea-80d6-096b9ec47c00');\n",
              "        const dataTable =\n",
              "          await google.colab.kernel.invokeFunction('convertToInteractive',\n",
              "                                                    [key], {});\n",
              "        if (!dataTable) return;\n",
              "\n",
              "        const docLinkHtml = 'Like what you see? Visit the ' +\n",
              "          '<a target=\"_blank\" href=https://colab.research.google.com/notebooks/data_table.ipynb>data table notebook</a>'\n",
              "          + ' to learn more about interactive tables.';\n",
              "        element.innerHTML = '';\n",
              "        dataTable['output_type'] = 'display_data';\n",
              "        await google.colab.output.renderOutput(dataTable, element);\n",
              "        const docLink = document.createElement('div');\n",
              "        docLink.innerHTML = docLinkHtml;\n",
              "        element.appendChild(docLink);\n",
              "      }\n",
              "    </script>\n",
              "  </div>\n",
              "\n",
              "\n",
              "<div id=\"df-a6b3f990-f149-4930-974e-863233398c8b\">\n",
              "  <button class=\"colab-df-quickchart\" onclick=\"quickchart('df-a6b3f990-f149-4930-974e-863233398c8b')\"\n",
              "            title=\"Suggest charts\"\n",
              "            style=\"display:none;\">\n",
              "\n",
              "<svg xmlns=\"http://www.w3.org/2000/svg\" height=\"24px\"viewBox=\"0 0 24 24\"\n",
              "     width=\"24px\">\n",
              "    <g>\n",
              "        <path d=\"M19 3H5c-1.1 0-2 .9-2 2v14c0 1.1.9 2 2 2h14c1.1 0 2-.9 2-2V5c0-1.1-.9-2-2-2zM9 17H7v-7h2v7zm4 0h-2V7h2v10zm4 0h-2v-4h2v4z\"/>\n",
              "    </g>\n",
              "</svg>\n",
              "  </button>\n",
              "\n",
              "<style>\n",
              "  .colab-df-quickchart {\n",
              "      --bg-color: #E8F0FE;\n",
              "      --fill-color: #1967D2;\n",
              "      --hover-bg-color: #E2EBFA;\n",
              "      --hover-fill-color: #174EA6;\n",
              "      --disabled-fill-color: #AAA;\n",
              "      --disabled-bg-color: #DDD;\n",
              "  }\n",
              "\n",
              "  [theme=dark] .colab-df-quickchart {\n",
              "      --bg-color: #3B4455;\n",
              "      --fill-color: #D2E3FC;\n",
              "      --hover-bg-color: #434B5C;\n",
              "      --hover-fill-color: #FFFFFF;\n",
              "      --disabled-bg-color: #3B4455;\n",
              "      --disabled-fill-color: #666;\n",
              "  }\n",
              "\n",
              "  .colab-df-quickchart {\n",
              "    background-color: var(--bg-color);\n",
              "    border: none;\n",
              "    border-radius: 50%;\n",
              "    cursor: pointer;\n",
              "    display: none;\n",
              "    fill: var(--fill-color);\n",
              "    height: 32px;\n",
              "    padding: 0;\n",
              "    width: 32px;\n",
              "  }\n",
              "\n",
              "  .colab-df-quickchart:hover {\n",
              "    background-color: var(--hover-bg-color);\n",
              "    box-shadow: 0 1px 2px rgba(60, 64, 67, 0.3), 0 1px 3px 1px rgba(60, 64, 67, 0.15);\n",
              "    fill: var(--button-hover-fill-color);\n",
              "  }\n",
              "\n",
              "  .colab-df-quickchart-complete:disabled,\n",
              "  .colab-df-quickchart-complete:disabled:hover {\n",
              "    background-color: var(--disabled-bg-color);\n",
              "    fill: var(--disabled-fill-color);\n",
              "    box-shadow: none;\n",
              "  }\n",
              "\n",
              "  .colab-df-spinner {\n",
              "    border: 2px solid var(--fill-color);\n",
              "    border-color: transparent;\n",
              "    border-bottom-color: var(--fill-color);\n",
              "    animation:\n",
              "      spin 1s steps(1) infinite;\n",
              "  }\n",
              "\n",
              "  @keyframes spin {\n",
              "    0% {\n",
              "      border-color: transparent;\n",
              "      border-bottom-color: var(--fill-color);\n",
              "      border-left-color: var(--fill-color);\n",
              "    }\n",
              "    20% {\n",
              "      border-color: transparent;\n",
              "      border-left-color: var(--fill-color);\n",
              "      border-top-color: var(--fill-color);\n",
              "    }\n",
              "    30% {\n",
              "      border-color: transparent;\n",
              "      border-left-color: var(--fill-color);\n",
              "      border-top-color: var(--fill-color);\n",
              "      border-right-color: var(--fill-color);\n",
              "    }\n",
              "    40% {\n",
              "      border-color: transparent;\n",
              "      border-right-color: var(--fill-color);\n",
              "      border-top-color: var(--fill-color);\n",
              "    }\n",
              "    60% {\n",
              "      border-color: transparent;\n",
              "      border-right-color: var(--fill-color);\n",
              "    }\n",
              "    80% {\n",
              "      border-color: transparent;\n",
              "      border-right-color: var(--fill-color);\n",
              "      border-bottom-color: var(--fill-color);\n",
              "    }\n",
              "    90% {\n",
              "      border-color: transparent;\n",
              "      border-bottom-color: var(--fill-color);\n",
              "    }\n",
              "  }\n",
              "</style>\n",
              "\n",
              "  <script>\n",
              "    async function quickchart(key) {\n",
              "      const quickchartButtonEl =\n",
              "        document.querySelector('#' + key + ' button');\n",
              "      quickchartButtonEl.disabled = true;  // To prevent multiple clicks.\n",
              "      quickchartButtonEl.classList.add('colab-df-spinner');\n",
              "      try {\n",
              "        const charts = await google.colab.kernel.invokeFunction(\n",
              "            'suggestCharts', [key], {});\n",
              "      } catch (error) {\n",
              "        console.error('Error during call to suggestCharts:', error);\n",
              "      }\n",
              "      quickchartButtonEl.classList.remove('colab-df-spinner');\n",
              "      quickchartButtonEl.classList.add('colab-df-quickchart-complete');\n",
              "    }\n",
              "    (() => {\n",
              "      let quickchartButtonEl =\n",
              "        document.querySelector('#df-a6b3f990-f149-4930-974e-863233398c8b button');\n",
              "      quickchartButtonEl.style.display =\n",
              "        google.colab.kernel.accessAllowed ? 'block' : 'none';\n",
              "    })();\n",
              "  </script>\n",
              "</div>\n",
              "\n",
              "    </div>\n",
              "  </div>\n"
            ],
            "application/vnd.google.colaboratory.intrinsic+json": {
              "type": "dataframe",
              "summary": "{\n  \"name\": \"df\",\n  \"rows\": 10,\n  \"fields\": [\n    {\n      \"column\": 0,\n      \"properties\": {\n        \"dtype\": \"number\",\n        \"std\": 0.6528569691917383,\n        \"min\": 4.6,\n        \"max\": 6.7,\n        \"num_unique_values\": 9,\n        \"samples\": [\n          5.5,\n          6.0,\n          5.4\n        ],\n        \"semantic_type\": \"\",\n        \"description\": \"\"\n      }\n    },\n    {\n      \"column\": 1,\n      \"properties\": {\n        \"dtype\": \"number\",\n        \"std\": 0.45411696975803734,\n        \"min\": 2.2,\n        \"max\": 3.7,\n        \"num_unique_values\": 7,\n        \"samples\": [\n          3.5,\n          3.4,\n          3.7\n        ],\n        \"semantic_type\": \"\",\n        \"description\": \"\"\n      }\n    },\n    {\n      \"column\": 2,\n      \"properties\": {\n        \"dtype\": \"number\",\n        \"std\": 1.893380281108074,\n        \"min\": 1.3,\n        \"max\": 5.7,\n        \"num_unique_values\": 7,\n        \"samples\": [\n          1.5,\n          1.4,\n          5.1\n        ],\n        \"semantic_type\": \"\",\n        \"description\": \"\"\n      }\n    },\n    {\n      \"column\": 3,\n      \"properties\": {\n        \"dtype\": \"number\",\n        \"std\": 0.8279157230325104,\n        \"min\": 0.2,\n        \"max\": 2.5,\n        \"num_unique_values\": 5,\n        \"samples\": [\n          1.5,\n          0.3,\n          2.5\n        ],\n        \"semantic_type\": \"\",\n        \"description\": \"\"\n      }\n    },\n    {\n      \"column\": 4,\n      \"properties\": {\n        \"dtype\": \"category\",\n        \"num_unique_values\": 3,\n        \"samples\": [\n          \"Iris-setosa\",\n          \"Iris-virginica\",\n          \"Iris-versicolor\"\n        ],\n        \"semantic_type\": \"\",\n        \"description\": \"\"\n      }\n    }\n  ]\n}"
            }
          },
          "metadata": {},
          "execution_count": 68
        }
      ]
    },
    {
      "cell_type": "code",
      "source": [
        "#Data visualization\n",
        "X=df.iloc[0:100,[0,2]].values\n",
        "y=df.iloc[0:100,4].values\n",
        "y=np.where(y=='Iris-setosa',-1,1)\n",
        "\n",
        "plt.scatter(X[:50,0],X[:50,1],color='red',marker='o',label='setosa')\n",
        "plt.scatter(X[50:100,0],X[50:100,1],color='blue',marker='x',label='versicolor')\n",
        "plt.xlabel('sepal length [cm]')\n",
        "plt.ylabel('petal length [cm]')\n",
        "plt.legend(loc='upper left')\n",
        "plt.show()"
      ],
      "metadata": {
        "colab": {
          "base_uri": "https://localhost:8080/",
          "height": 449
        },
        "id": "cpeeL12fv4yb",
        "outputId": "c6b57d26-cbed-446d-a6bd-96cb6d27709f"
      },
      "execution_count": 69,
      "outputs": [
        {
          "output_type": "display_data",
          "data": {
            "text/plain": [
              "<Figure size 640x480 with 1 Axes>"
            ],
            "image/png": "[encoded data removed]"
          },
          "metadata": {}
        }
      ]
    },
    {
      "cell_type": "code",
      "source": [
        "ppn=Perceptron(learning_rate=0.1, n_iters=10)\n",
        "ppn.fit(X,y)\n",
        "plt.plot(range(1,len(ppn.error_list)+1),ppn.error_list,marker='o')\n",
        "plt.xlabel('Epochs')\n",
        "plt.ylabel('Number of updates')\n",
        "plt.show()"
      ],
      "metadata": {
        "colab": {
          "base_uri": "https://localhost:8080/",
          "height": 449
        },
        "id": "ute6Quet2GAg",
        "outputId": "512f4c85-6555-45c5-f127-8409af9faf57"
      },
      "execution_count": 70,
      "outputs": [
        {
          "output_type": "display_data",
          "data": {
            "text/plain": [
              "<Figure size 640x480 with 1 Axes>"
            ],
            "image/png": "[encoded data removed]"
          },
          "metadata": {}
        }
      ]
    },
    {
      "cell_type": "code",
      "source": [
        "from matplotlib.colors import ListedColormap\n",
        "def plot_decision_regions(X, y, classifier, resolution=0.02):\n",
        "  # setup marker generator and color map\n",
        "  markers = ('o', 's', '^', 'v', '<')\n",
        "  colors = ('red', 'blue', 'lightgreen', 'gray', 'cyan')\n",
        "  cmap = ListedColormap(colors[:len(np.unique(y))])\n",
        "  # plot the decision surface\n",
        "  x1_min, x1_max = X[:, 0].min() - 1, X[:, 0].max() + 1\n",
        "  x2_min, x2_max = X[:, 1].min() - 1, X[:, 1].max() + 1\n",
        "  xx1, xx2 = np.meshgrid(np.arange(x1_min, x1_max, resolution),\n",
        "  np.arange(x2_min, x2_max, resolution))\n",
        "  lab = classifier.predict(np.array([xx1.ravel(), xx2.ravel()]).T)\n",
        "  lab = lab.reshape(xx1.shape)\n",
        "  plt.contourf(xx1, xx2, lab, alpha=0.3, cmap=cmap)\n",
        "  plt.xlim(xx1.min(), xx1.max())\n",
        "  plt.ylim(xx2.min(), xx2.max())\n",
        "  # plot class examples\n",
        "  for idx, cl in enumerate(np.unique(y)):\n",
        "    plt.scatter(x=X[y == cl, 0],\n",
        "    y=X[y == cl, 1],\n",
        "    alpha=0.8,\n",
        "    c=colors[idx],\n",
        "    marker=markers[idx],\n",
        "    label=f'Class {cl}',\n",
        "    edgecolor='black')"
      ],
      "metadata": {
        "id": "KZFnncWg2sQw"
      },
      "execution_count": 71,
      "outputs": []
    },
    {
      "cell_type": "code",
      "source": [
        "plot_decision_regions(X, y, classifier=ppn)\n",
        "plt.xlabel('Sepal length [cm]')\n",
        "plt.ylabel('Petal length [cm]')\n",
        "plt.legend(loc='upper left')\n",
        "plt.show()"
      ],
      "metadata": {
        "colab": {
          "base_uri": "https://localhost:8080/",
          "height": 450
        },
        "id": "OOqTKptb5QfP",
        "outputId": "a8c3000a-e45f-485a-ef95-e533e12a9003"
      },
      "execution_count": 72,
      "outputs": [
        {
          "output_type": "display_data",
          "data": {
            "text/plain": [
              "<Figure size 640x480 with 1 Axes>"
            ],
            "image/png": "[encoded data removed]"
          },
          "metadata": {}
        }
      ]
    },
    {
      "cell_type": "code",
      "source": [
        "######################## Implmentation 2 ###########################################\n",
        "\n",
        "\n",
        "\n",
        "####################################################################################\n",
        "\n",
        "\n",
        "import numpy as np\n",
        "import pandas as pd\n",
        "import matplotlib.pyplot as plt\n",
        "import os\n",
        "\n",
        "#download text from the url='https://github.com/rasbt/stat453-deep-learning-ss21/blob/main/L03/code/perceptron_toydata.txt'\n",
        "data = np.genfromtxt('perceptron_toydata.txt', delimiter='\\t')"
      ],
      "metadata": {
        "id": "YRBoU4gc5UPE"
      },
      "execution_count": 73,
      "outputs": []
    },
    {
      "cell_type": "code",
      "source": [
        "X,y=data[:,:2],data[:,2]"
      ],
      "metadata": {
        "id": "k7iEgg_wB7ds"
      },
      "execution_count": 74,
      "outputs": []
    },
    {
      "cell_type": "code",
      "source": [
        "y=y.astype(np.int64)"
      ],
      "metadata": {
        "id": "yIFUsDZ3J8bK"
      },
      "execution_count": 75,
      "outputs": []
    },
    {
      "cell_type": "code",
      "source": [
        "print(\"Labels Count:\",np.bincount(y))\n",
        "print(\"X.shape:\",X.shape)\n",
        "print(\"y.shape:\",y.shape)"
      ],
      "metadata": {
        "colab": {
          "base_uri": "https://localhost:8080/"
        },
        "id": "6uNxYVGkKCX_",
        "outputId": "d2fd0844-ccc6-4e31-9869-d27e2e447827"
      },
      "execution_count": 76,
      "outputs": [
        {
          "output_type": "stream",
          "name": "stdout",
          "text": [
            "Labels Count: [50 50]\n",
            "X.shape: (100, 2)\n",
            "y.shape: (100,)\n"
          ]
        }
      ]
    },
    {
      "cell_type": "code",
      "source": [
        "# Shuffling & train/test split\n",
        "shuffle_index=np.arange(y.shape[0])\n",
        "shuffle_range=np.random.RandomState(123)\n",
        "shuffle_range.shuffle(shuffle_index)\n",
        "X,y=X[shuffle_index],y[shuffle_index]"
      ],
      "metadata": {
        "id": "7ms3pZvHKUvR"
      },
      "execution_count": 77,
      "outputs": []
    },
    {
      "cell_type": "code",
      "source": [
        "X_train,X_test=X[shuffle_index[:70]],X[shuffle_index[70:]]\n",
        "y_train,y_test=y[shuffle_index[:70]],y[shuffle_index[70:]]"
      ],
      "metadata": {
        "id": "Ef-Ftgr3KpuQ"
      },
      "execution_count": 78,
      "outputs": []
    },
    {
      "cell_type": "code",
      "source": [
        "#Normalizing data\n",
        "mean,variance=X_train.mean(axis=0),X_train.std(axis=0)\n",
        "X_train=(X_train-mean)/variance\n",
        "X_test=(X_test-mean)/variance"
      ],
      "metadata": {
        "id": "5d3OI914K0pR"
      },
      "execution_count": 79,
      "outputs": []
    },
    {
      "cell_type": "code",
      "source": [
        "plt.scatter(X_train[y_train==0, 0], X_train[y_train==0, 1], label='class 0', marker='o')\n",
        "plt.scatter(X_train[y_train==1, 0], X_train[y_train==1, 1], label='class 1', marker='s')\n",
        "plt.title('Training set')\n",
        "plt.xlabel('feature 1')\n",
        "plt.ylabel('feature 2')\n",
        "plt.xlim([-3, 3])\n",
        "plt.ylim([-3, 3])\n",
        "plt.legend()\n",
        "plt.show()"
      ],
      "metadata": {
        "colab": {
          "base_uri": "https://localhost:8080/",
          "height": 472
        },
        "id": "IaEmFUvfe6ZB",
        "outputId": "e4408959-394c-42c3-b8a8-c328a916d978"
      },
      "execution_count": 80,
      "outputs": [
        {
          "output_type": "display_data",
          "data": {
            "text/plain": [
              "<Figure size 640x480 with 1 Axes>"
            ],
            "image/png": "[encoded data removed]"
          },
          "metadata": {}
        }
      ]
    },
    {
      "cell_type": "code",
      "source": [
        "## Defining Perceptron\n",
        "\n",
        "class Perceptron:\n",
        "  def __init__(self, num_features):\n",
        "    self.num_features = num_features\n",
        "    self.weights = np.zeros((num_features,1),dtype=np.float16)\n",
        "    self.bias = np.zeros(1,dtype=np.float16)\n",
        "\n",
        "  def predict(self,x):\n",
        "    linear=np.dot(x,self.weights)+self.bias\n",
        "    predictions=np.where(linear>0,1,0)\n",
        "    return predictions\n",
        "  def backwards(self,x,y):\n",
        "    predictions=self.predict(x)\n",
        "    errors=y-predictions\n",
        "    return errors\n",
        "  def train(self,x,y,epochs):\n",
        "    for _ in range(epochs):\n",
        "      errors=0\n",
        "      for i in range(x.shape[0]):\n",
        "        update=self.backwards(x[i].reshape(1,self.num_features),y[i]).reshape(-1)\n",
        "        self.weights+=(update*x[i]).reshape(self.num_features,1)\n",
        "        self.bias+=update\n",
        "  def evaluate(self,x,y):\n",
        "    predictions=self.predict(x).reshape(-1)\n",
        "    accuracy=np.sum(predictions==y)/y.shape[0]\n",
        "    return accuracy"
      ],
      "metadata": {
        "id": "Eti372gcfOU_"
      },
      "execution_count": 85,
      "outputs": []
    },
    {
      "cell_type": "code",
      "source": [
        "ppn = Perceptron(num_features=2)\n",
        "\n",
        "ppn.train(X_train, y_train, epochs=5)\n",
        "\n",
        "print('Model parameters:\\n\\n')\n",
        "print('  Weights: %s\\n' % ppn.weights)\n",
        "print('  Bias: %s\\n' % ppn.bias)"
      ],
      "metadata": {
        "colab": {
          "base_uri": "https://localhost:8080/"
        },
        "id": "V89IMck2f69R",
        "outputId": "d37ce2a0-e637-4dfa-befe-b27729015174"
      },
      "execution_count": 86,
      "outputs": [
        {
          "output_type": "stream",
          "name": "stdout",
          "text": [
            "Model parameters:\n",
            "\n",
            "\n",
            "  Weights: [[1.273]\n",
            " [1.347]]\n",
            "\n",
            "  Bias: [-1.]\n",
            "\n"
          ]
        }
      ]
    },
    {
      "cell_type": "code",
      "source": [
        "train_acc = ppn.evaluate(X_train, y_train)\n",
        "print('Train set accuracy: %.2f%%' % (train_acc*100))"
      ],
      "metadata": {
        "colab": {
          "base_uri": "https://localhost:8080/"
        },
        "id": "pKUFzU15qBWP",
        "outputId": "f31abff1-f866-45d0-ce06-51f36dfc88e4"
      },
      "execution_count": 87,
      "outputs": [
        {
          "output_type": "stream",
          "name": "stdout",
          "text": [
            "Train set accuracy: 100.00%\n"
          ]
        }
      ]
    },
    {
      "cell_type": "code",
      "source": [
        "test_acc = ppn.evaluate(X_test, y_test)\n",
        "print('Test set accuracy: %.2f%%' % (test_acc*100))"
      ],
      "metadata": {
        "colab": {
          "base_uri": "https://localhost:8080/"
        },
        "id": "GeqK_rYb8Atz",
        "outputId": "3d1eca84-16b9-425c-a97c-82a47150e23e"
      },
      "execution_count": 88,
      "outputs": [
        {
          "output_type": "stream",
          "name": "stdout",
          "text": [
            "Test set accuracy: 93.33%\n"
          ]
        }
      ]
    },
    {
      "cell_type": "code",
      "source": [
        "##########################\n",
        "### 2D Decision Boundary\n",
        "##########################\n",
        "\n",
        "w, b = ppn.weights, ppn.bias\n",
        "\n",
        "x0_min = -2\n",
        "x1_min = ( (-(w[0] * x0_min) - b[0])\n",
        "          / w[1] )\n",
        "\n",
        "x0_max = 2\n",
        "x1_max = ( (-(w[0] * x0_max) - b[0])\n",
        "          / w[1] )\n",
        "\n",
        "# x0*w0 + x1*w1 + b = 0\n",
        "# x1  = (-x0*w0 - b) / w1\n",
        "\n",
        "\n",
        "fig, ax = plt.subplots(1, 2, sharex=True, figsize=(7, 3))\n",
        "\n",
        "ax[0].plot([x0_min, x0_max], [x1_min, x1_max])\n",
        "ax[0].scatter(X_train[y_train==0, 0], X_train[y_train==0, 1], label='class 0', marker='o')\n",
        "ax[0].scatter(X_train[y_train==1, 0], X_train[y_train==1, 1], label='class 1', marker='s')\n",
        "\n",
        "ax[1].plot([x0_min, x0_max], [x1_min, x1_max])\n",
        "ax[1].scatter(X_test[y_test==0, 0], X_test[y_test==0, 1], label='class 0', marker='o')\n",
        "ax[1].scatter(X_test[y_test==1, 0], X_test[y_test==1, 1], label='class 1', marker='s')\n",
        "\n",
        "ax[1].legend(loc='upper left')\n",
        "plt.show()"
      ],
      "metadata": {
        "colab": {
          "base_uri": "https://localhost:8080/",
          "height": 291
        },
        "id": "jNqKBgPY8EhH",
        "outputId": "d7492e52-8caf-4bb0-bdab-a612934733d3"
      },
      "execution_count": 89,
      "outputs": [
        {
          "output_type": "display_data",
          "data": {
            "text/plain": [
              "<Figure size 700x300 with 2 Axes>"
            ],
            "image/png": "[encoded data removed]"
          },
          "metadata": {}
        }
      ]
    },
    {
      "cell_type": "code",
      "source": [],
      "metadata": {
        "id": "4XVxFgR_87wq"
      },
      "execution_count": null,
      "outputs": []
    }
  ]
}