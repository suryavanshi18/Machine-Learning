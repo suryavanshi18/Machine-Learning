{
  "nbformat": 4,
  "nbformat_minor": 0,
  "metadata": {
    "colab": {
      "provenance": []
    },
    "kernelspec": {
      "name": "python3",
      "display_name": "Python 3"
    },
    "language_info": {
      "name": "python"
    }
  },
  "cells": [
    {
      "cell_type": "code",
      "execution_count": 49,
      "metadata": {
        "id": "hlmxUUwVqB1G"
      },
      "outputs": [],
      "source": [
        "import torch\n",
        "import torchvision.datasets as datasets\n",
        "import torchvision.transforms as transforms\n",
        "import torch.nn as nn\n",
        "import matplotlib.pyplot as plt\n",
        "from tqdm import tqdm"
      ]
    },
    {
      "cell_type": "code",
      "source": [
        "_ = torch.manual_seed(0)"
      ],
      "metadata": {
        "id": "Y1KMcUVFtW5j"
      },
      "execution_count": 50,
      "outputs": []
    },
    {
      "cell_type": "code",
      "source": [
        "#Loading the data\n",
        "transform = transforms.Compose([transforms.ToTensor()])\n",
        "train_data=datasets.MNIST(root='./data',train=True,download=True,transform=transform)\n",
        "train_loader=torch.utils.data.DataLoader(train_data,batch_size=100,shuffle=True)\n",
        "test_data=datasets.MNIST(root='./data',train=False,download=True,transform=transform)\n",
        "test_loader=torch.utils.data.DataLoader(test_data,batch_size=100,shuffle=True)\n"
      ],
      "metadata": {
        "id": "TN6MrqN6qoTF"
      },
      "execution_count": 51,
      "outputs": []
    },
    {
      "cell_type": "code",
      "source": [
        "device=torch.device(\"cuda:0\" if torch.cuda.is_available() else \"cpu\")"
      ],
      "metadata": {
        "id": "54A_9vFwvUWN"
      },
      "execution_count": 52,
      "outputs": []
    },
    {
      "cell_type": "code",
      "source": [
        "class SampleNet(nn.Module):\n",
        "  def __init__(self,hidden_size1=1000,hidden_size2=2000):\n",
        "    super().__init__()\n",
        "    self.linear1=nn.Linear(28*28,hidden_size1)\n",
        "    self.linear2=nn.Linear(hidden_size1,hidden_size2)\n",
        "    self.linear3=nn.Linear(hidden_size2,10)\n",
        "    self.relu=nn.ReLU()\n",
        "  def forward(self,img):\n",
        "    x=img.view(-1,28*28)\n",
        "    x=self.relu(self.linear1(x))\n",
        "    x=self.relu(self.linear2(x))\n",
        "    x=self.linear3(x)\n",
        "    return x\n",
        "model=SampleNet().to(device)"
      ],
      "metadata": {
        "id": "hpGFVt_Xvc29"
      },
      "execution_count": 53,
      "outputs": []
    },
    {
      "cell_type": "code",
      "source": [
        "#Training the network to complete pretraining process\n",
        "def train(train_loader,net,epochs=5,total_iterations_limit=None):\n",
        "  cross_en=nn.CrossEntropyLoss()\n",
        "  optimizer=torch.optim.Adam(net.parameters(),lr=0.001)\n",
        "  total_iterations=0\n",
        "  for epoch in range(epochs):\n",
        "    model.train()\n",
        "    loss_sum=0\n",
        "    num_iterations=0\n",
        "    data_iterator=tqdm(train_loader,desc=f'Epoch {epoch+1}')\n",
        "    if total_iterations is not None:\n",
        "      data_iterator.total=total_iterations_limit\n",
        "    for data in data_iterator:\n",
        "      num_iterations+=1\n",
        "      total_iterations+=1\n",
        "      x,y=data\n",
        "      x=x.to(device)\n",
        "      y=y.to(device)\n",
        "      optimizer.zero_grad()\n",
        "      output=model(x.view(-1,28*28))\n",
        "      loss=cross_en(output,y)\n",
        "      loss_sum+=loss.item()\n",
        "      avg_loss=loss_sum/num_iterations\n",
        "      data_iterator.set_postfix({'loss':f'{avg_loss:.2f}'})\n",
        "      loss.backward()\n",
        "      optimizer.step()\n",
        "      if total_iterations_limit is not None and total_iterations>=total_iterations_limit:\n",
        "        break\n",
        "\n",
        "train(train_loader,model,epochs=1)"
      ],
      "metadata": {
        "colab": {
          "base_uri": "https://localhost:8080/"
        },
        "id": "6KBYWj0ufg7W",
        "outputId": "5ca2d29f-f727-44f4-a3da-22cebb627e6f"
      },
      "execution_count": 54,
      "outputs": [
        {
          "output_type": "stream",
          "name": "stderr",
          "text": [
            "Epoch 1: 600it [00:57, 10.41it/s, loss=0.20]\n"
          ]
        }
      ]
    },
    {
      "cell_type": "code",
      "source": [
        "#Keeping copy of orignal weights\n",
        "orignal_weights={}\n",
        "for name,param in model.named_parameters():\n",
        "  orignal_weights[name]=param.clone().detach()\n"
      ],
      "metadata": {
        "id": "rJKwP1m-OqRl"
      },
      "execution_count": 55,
      "outputs": []
    },
    {
      "cell_type": "code",
      "source": [
        "def test():\n",
        "  correct=0\n",
        "  total=0\n",
        "  wrong_counts=[0 for i in range(10)]\n",
        "  with torch.no_grad():\n",
        "    for data in tqdm(test_loader,desc='Testing'):\n",
        "      x,y=data\n",
        "      x=x.to(device)\n",
        "      y=y.to(device)\n",
        "      output=model(x.view(-1,28*28))\n",
        "      for idx,i in enumerate(output):\n",
        "        if torch.argmax(i)==y[idx]:\n",
        "          correct+=1\n",
        "        else:\n",
        "          wrong_counts[y[idx]]+=1\n",
        "        total+=1\n",
        "  print(f'Accuracy: {round(correct/total,3)}')\n",
        "  for i in range(len(wrong_counts)):\n",
        "    print(f'Wrong counts for class {i}: {wrong_counts[i]}')\n",
        "test()"
      ],
      "metadata": {
        "colab": {
          "base_uri": "https://localhost:8080/"
        },
        "id": "jgsG2NeXP7_Q",
        "outputId": "d891d290-745d-4473-fc12-3807aa7bc0fe"
      },
      "execution_count": 56,
      "outputs": [
        {
          "output_type": "stream",
          "name": "stderr",
          "text": [
            "Testing: 100%|██████████| 100/100 [00:03<00:00, 26.88it/s]"
          ]
        },
        {
          "output_type": "stream",
          "name": "stdout",
          "text": [
            "Accuracy: 0.97\n",
            "Wrong counts for class 0: 13\n",
            "Wrong counts for class 1: 13\n",
            "Wrong counts for class 2: 34\n",
            "Wrong counts for class 3: 51\n",
            "Wrong counts for class 4: 30\n",
            "Wrong counts for class 5: 13\n",
            "Wrong counts for class 6: 16\n",
            "Wrong counts for class 7: 43\n",
            "Wrong counts for class 8: 47\n",
            "Wrong counts for class 9: 40\n"
          ]
        },
        {
          "output_type": "stream",
          "name": "stderr",
          "text": [
            "\n"
          ]
        }
      ]
    },
    {
      "cell_type": "code",
      "source": [
        "#Class 8 doesn't perform that well\n",
        "total_parameter=0\n",
        "for index,layer in enumerate([model.linear1,model.linear2,model.linear3]):\n",
        "  total_parameter+=layer.weight.nelement()+layer.bias.nelement()\n",
        "  print(f'Layer{index+1}:W:{layer.weight.shape}+B:{layer.bias.shape}')\n",
        "print(f'Total number of parameters: {total_parameter}')"
      ],
      "metadata": {
        "colab": {
          "base_uri": "https://localhost:8080/"
        },
        "id": "wVMbk3JKUgNF",
        "outputId": "d666ce25-b25b-40ec-e157-3f51f6cb9aba"
      },
      "execution_count": 57,
      "outputs": [
        {
          "output_type": "stream",
          "name": "stdout",
          "text": [
            "Layer1:W:torch.Size([1000, 784])+B:torch.Size([1000])\n",
            "Layer2:W:torch.Size([2000, 1000])+B:torch.Size([2000])\n",
            "Layer3:W:torch.Size([10, 2000])+B:torch.Size([10])\n",
            "Total number of parameters: 2807010\n"
          ]
        }
      ]
    },
    {
      "cell_type": "code",
      "source": [
        "class LoRaParameterized(nn.Module):\n",
        "  def __init__(self,features_in,features_out,rank=1,alpha=1,device='cpu'):\n",
        "    super().__init__()\n",
        "    self.lora_A=nn.Parameter(torch.zeros((rank,features_out)).to(device))\n",
        "    self.lora_B=nn.Parameter(torch.zeros((features_in,rank)).to(device))\n",
        "    nn.init.normal_(self.lora_A,mean=0,std=1)\n",
        "\n",
        "    self.scale=alpha/rank\n",
        "    self.enabled=True\n",
        "\n",
        "  def forward(self,orignal_weights):\n",
        "    if self.enabled:\n",
        "      return orignal_weights+torch.matmul(self.lora_B,self.lora_A).view(orignal_weights.shape)*self.scale\n",
        "    else:\n",
        "      return orignal_weights"
      ],
      "metadata": {
        "id": "3AcwpV5rXLTJ"
      },
      "execution_count": 58,
      "outputs": []
    },
    {
      "cell_type": "code",
      "source": [
        "import torch.nn.utils.parametrize as parametrize\n",
        "def linear_layer_parameterization(layer,device,rank=1,alpha=1):\n",
        "  features_in,features_out=layer.weight.shape\n",
        "  return LoRaParameterized(features_in,features_out,rank=rank,alpha=alpha,device=device)"
      ],
      "metadata": {
        "id": "E1w5r6R6aa9I"
      },
      "execution_count": 59,
      "outputs": []
    },
    {
      "cell_type": "code",
      "source": [
        "parametrize.register_parametrization(\n",
        "    model.linear1,'weight',linear_layer_parameterization(model.linear1,device)\n",
        ")\n",
        "parametrize.register_parametrization(\n",
        "    model.linear2,'weight',linear_layer_parameterization(model.linear2,device)\n",
        ")\n",
        "parametrize.register_parametrization(\n",
        "    model.linear3,'weight',linear_layer_parameterization(model.linear3,device)\n",
        ")"
      ],
      "metadata": {
        "colab": {
          "base_uri": "https://localhost:8080/"
        },
        "id": "kQEDsPYscLJ5",
        "outputId": "4467d8c7-5580-46ea-d119-08d1acd7983c"
      },
      "execution_count": 60,
      "outputs": [
        {
          "output_type": "execute_result",
          "data": {
            "text/plain": [
              "ParametrizedLinear(\n",
              "  in_features=2000, out_features=10, bias=True\n",
              "  (parametrizations): ModuleDict(\n",
              "    (weight): ParametrizationList(\n",
              "      (0): LoRaParameterized()\n",
              "    )\n",
              "  )\n",
              ")"
            ]
          },
          "metadata": {},
          "execution_count": 60
        }
      ]
    },
    {
      "cell_type": "code",
      "source": [
        "def enable_device(enabled=True):\n",
        "  for layer in [model.linear1,model.linear2,model.linear3]:\n",
        "    layer.parametrizations[\"weight\"][0].enabled=enabled"
      ],
      "metadata": {
        "id": "SHYLIz6MjD5n"
      },
      "execution_count": 61,
      "outputs": []
    },
    {
      "cell_type": "code",
      "source": [
        "total_parameters_lora=0\n",
        "total_parameters_non_lora=0\n",
        "\n",
        "for index,layer in enumerate([model.linear1,model.linear2,model.linear3]):\n",
        "  total_parameters_lora += layer.parametrizations[\"weight\"][0].lora_A.nelement() + layer.parametrizations[\"weight\"][0].lora_B.nelement()\n",
        "  total_parameters_non_lora+=layer.weight.nelement()+layer.bias.nelement()\n",
        "assert total_parameters_non_lora == total_parameter\n",
        "print(f'Total number of parameters (original): {total_parameters_non_lora:,}')\n",
        "print(f'Total number of parameters (original + LoRA): {total_parameters_lora + total_parameters_non_lora:,}')\n",
        "print(f'Parameters introduced by LoRA: {total_parameters_lora:,}')\n",
        "parameters_incremment = (total_parameters_lora / total_parameters_non_lora) * 100\n",
        "print(f'Parameters incremment: {parameters_incremment:.3f}%')"
      ],
      "metadata": {
        "colab": {
          "base_uri": "https://localhost:8080/"
        },
        "id": "6TXhLQsTjirU",
        "outputId": "4f2a71f0-dbdc-4799-f286-34e7ac5f7aa7"
      },
      "execution_count": 62,
      "outputs": [
        {
          "output_type": "stream",
          "name": "stdout",
          "text": [
            "Total number of parameters (original): 2,807,010\n",
            "Total number of parameters (original + LoRA): 2,813,804\n",
            "Parameters introduced by LoRA: 6,794\n",
            "Parameters incremment: 0.242%\n"
          ]
        }
      ]
    },
    {
      "cell_type": "code",
      "source": [
        "#freeze the non lora paramters\n",
        "for name,param in model.named_parameters():\n",
        "  if 'lora' not in name:\n",
        "    param.requires_grad=False\n",
        "mnist_trainset = datasets.MNIST(root='./data', train=True, download=True, transform=transform)\n",
        "exclude_indices = mnist_trainset.targets == 9\n",
        "mnist_trainset.data = mnist_trainset.data[exclude_indices]\n",
        "mnist_trainset.targets = mnist_trainset.targets[exclude_indices]\n",
        "# Create a dataloader for the training\n",
        "train_loader = torch.utils.data.DataLoader(mnist_trainset, batch_size=10, shuffle=True)\n",
        "\n",
        "# Train the network with LoRA only on the digit 9 and only for 100 batches (hoping that it would improve the performance on the digit 9)\n",
        "train(train_loader, model, epochs=1, total_iterations_limit=100)"
      ],
      "metadata": {
        "colab": {
          "base_uri": "https://localhost:8080/"
        },
        "id": "tdhmi0KwrTRK",
        "outputId": "64878e6b-943a-4299-a7bf-43ba415b035f"
      },
      "execution_count": 63,
      "outputs": [
        {
          "output_type": "stream",
          "name": "stderr",
          "text": [
            "Epoch 1:  99%|█████████▉| 99/100 [00:03<00:00, 26.09it/s, loss=0.02]\n"
          ]
        }
      ]
    },
    {
      "cell_type": "code",
      "source": [
        "# Check that the frozen parameters are still unchanged by the finetuning\n",
        "assert torch.all(model.linear1.parametrizations.weight.original == orignal_weights['linear1.weight'])\n",
        "assert torch.all(model.linear2.parametrizations.weight.original == orignal_weights['linear2.weight'])\n",
        "assert torch.all(model.linear3.parametrizations.weight.original == orignal_weights['linear3.weight'])\n",
        "\n",
        "enable_device(enabled=True)\n",
        "# The new linear1.weight is obtained by the \"forward\" function of our LoRA parametrization\n",
        "# The original weights have been moved to net.linear1.parametrizations.weight.original\n",
        "# More info here: https://pytorch.org/tutorials/intermediate/parametrizations.html#inspecting-a-parametrized-module\n",
        "assert torch.equal(model.linear1.weight, model.linear1.parametrizations.weight.original + (model.linear1.parametrizations.weight[0].lora_B @ model.linear1.parametrizations.weight[0].lora_A) * model.linear1.parametrizations.weight[0].scale)\n",
        "\n",
        "enable_device(enabled=False)\n",
        "# If we disable LoRA, the linear1.weight is the original one\n",
        "assert torch.equal(model.linear1.weight, orignal_weights['linear1.weight'])"
      ],
      "metadata": {
        "id": "nrSJLtEVumnL"
      },
      "execution_count": 64,
      "outputs": []
    },
    {
      "cell_type": "code",
      "source": [
        "# Test with LoRA enabled\n",
        "enable_device(enabled=True)\n",
        "test()"
      ],
      "metadata": {
        "colab": {
          "base_uri": "https://localhost:8080/"
        },
        "id": "FMs3N3qGvsbh",
        "outputId": "f37039f3-49fa-4fd1-ca4a-eaa392755727"
      },
      "execution_count": 65,
      "outputs": [
        {
          "output_type": "stream",
          "name": "stderr",
          "text": [
            "Testing: 100%|██████████| 100/100 [00:04<00:00, 20.48it/s]"
          ]
        },
        {
          "output_type": "stream",
          "name": "stdout",
          "text": [
            "Accuracy: 0.771\n",
            "Wrong counts for class 0: 128\n",
            "Wrong counts for class 1: 44\n",
            "Wrong counts for class 2: 99\n",
            "Wrong counts for class 3: 244\n",
            "Wrong counts for class 4: 636\n",
            "Wrong counts for class 5: 101\n",
            "Wrong counts for class 6: 225\n",
            "Wrong counts for class 7: 344\n",
            "Wrong counts for class 8: 461\n",
            "Wrong counts for class 9: 3\n"
          ]
        },
        {
          "output_type": "stream",
          "name": "stderr",
          "text": [
            "\n"
          ]
        }
      ]
    },
    {
      "cell_type": "code",
      "source": [
        "# Test with LoRA disabled\n",
        "enable_device(enabled=False)\n",
        "test()"
      ],
      "metadata": {
        "colab": {
          "base_uri": "https://localhost:8080/"
        },
        "id": "fD97WLTOv8ps",
        "outputId": "1efa15d0-64bb-4545-919d-80f89555a8f8"
      },
      "execution_count": 66,
      "outputs": [
        {
          "output_type": "stream",
          "name": "stderr",
          "text": [
            "Testing: 100%|██████████| 100/100 [00:03<00:00, 31.01it/s]"
          ]
        },
        {
          "output_type": "stream",
          "name": "stdout",
          "text": [
            "Accuracy: 0.97\n",
            "Wrong counts for class 0: 13\n",
            "Wrong counts for class 1: 13\n",
            "Wrong counts for class 2: 34\n",
            "Wrong counts for class 3: 51\n",
            "Wrong counts for class 4: 30\n",
            "Wrong counts for class 5: 13\n",
            "Wrong counts for class 6: 16\n",
            "Wrong counts for class 7: 43\n",
            "Wrong counts for class 8: 47\n",
            "Wrong counts for class 9: 40\n"
          ]
        },
        {
          "output_type": "stream",
          "name": "stderr",
          "text": [
            "\n"
          ]
        }
      ]
    },
    {
      "cell_type": "code",
      "source": [],
      "metadata": {
        "id": "6ZbRBO1vwdmT"
      },
      "execution_count": null,
      "outputs": []
    }
  ]
}