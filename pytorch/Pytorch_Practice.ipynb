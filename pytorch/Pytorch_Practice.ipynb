{
  "nbformat": 4,
  "nbformat_minor": 0,
  "metadata": {
    "colab": {
      "provenance": [],
      "authorship_tag": "ABX9TyNOtSDj8+yyPQy1QG7dwnT6",
      "include_colab_link": true
    },
    "kernelspec": {
      "name": "python3",
      "display_name": "Python 3"
    },
    "language_info": {
      "name": "python"
    }
  },
  "cells": [
    {
      "cell_type": "markdown",
      "metadata": {
        "id": "view-in-github",
        "colab_type": "text"
      },
      "source": [
        "<a href=\"https://colab.research.google.com/github/Abhs1897/Machine-Learning/blob/main/Pytorch_Practice.ipynb\" target=\"_parent\"><img src=\"https://colab.research.google.com/assets/colab-badge.svg\" alt=\"Open In Colab\"/></a>"
      ]
    },
    {
      "cell_type": "code",
      "execution_count": null,
      "metadata": {
        "id": "Cy-wfFYkEkEb"
      },
      "outputs": [],
      "source": [
        "import torch"
      ]
    },
    {
      "cell_type": "code",
      "source": [
        "a = torch.rand(3, 3)\n",
        "a=a.unsqueeze(0)##Adding extra dimension at 0. Can add extra dimension at 1 and 2 index as well.\n",
        "a.shape"
      ],
      "metadata": {
        "colab": {
          "base_uri": "https://localhost:8080/"
        },
        "id": "fFS5dCH5E2yx",
        "outputId": "88ec637b-a836-492b-f59f-4758d0b29131"
      },
      "execution_count": null,
      "outputs": [
        {
          "output_type": "execute_result",
          "data": {
            "text/plain": [
              "torch.Size([1, 3, 3])"
            ]
          },
          "metadata": {},
          "execution_count": 2
        }
      ]
    },
    {
      "cell_type": "code",
      "source": [
        "a=a.squeeze(0)\n",
        "a.shape"
      ],
      "metadata": {
        "colab": {
          "base_uri": "https://localhost:8080/"
        },
        "id": "SdnEBGsEE9AR",
        "outputId": "3fa0a0f9-506b-4e6a-a843-393d3f3cded6"
      },
      "execution_count": null,
      "outputs": [
        {
          "output_type": "execute_result",
          "data": {
            "text/plain": [
              "torch.Size([3, 3])"
            ]
          },
          "metadata": {},
          "execution_count": 3
        }
      ]
    },
    {
      "cell_type": "code",
      "source": [
        "(4)*torch.rand(1,1)+3#Create a random tensor of shape 5x3 in the interval [3, 7)"
      ],
      "metadata": {
        "colab": {
          "base_uri": "https://localhost:8080/"
        },
        "id": "jor7BjHrFSgI",
        "outputId": "04e60545-1f26-4a6b-c61a-7c89c42a33b2"
      },
      "execution_count": null,
      "outputs": [
        {
          "output_type": "execute_result",
          "data": {
            "text/plain": [
              "tensor([[3.1395]])"
            ]
          },
          "metadata": {},
          "execution_count": 4
        }
      ]
    },
    {
      "cell_type": "code",
      "source": [
        "torch.empty(2,3)"
      ],
      "metadata": {
        "colab": {
          "base_uri": "https://localhost:8080/"
        },
        "id": "h4gCeS3CJ9mE",
        "outputId": "082bd8cb-c8bb-4406-a8e6-3a46dc747d46"
      },
      "execution_count": null,
      "outputs": [
        {
          "output_type": "execute_result",
          "data": {
            "text/plain": [
              "tensor([[0., 0., 0.],\n",
              "        [0., 0., 0.]])"
            ]
          },
          "metadata": {},
          "execution_count": 5
        }
      ]
    },
    {
      "cell_type": "code",
      "source": [
        "a=torch.tensor([1,1,0,1,1])\n",
        "torch.nonzero(a)#Returns index of non zero elements in tensor"
      ],
      "metadata": {
        "colab": {
          "base_uri": "https://localhost:8080/"
        },
        "id": "T4K6nSKuKP8H",
        "outputId": "94e18b95-e62d-44c7-dc84-e0417e498652"
      },
      "execution_count": null,
      "outputs": [
        {
          "output_type": "execute_result",
          "data": {
            "text/plain": [
              "tensor([[0],\n",
              "        [1],\n",
              "        [3],\n",
              "        [4]])"
            ]
          },
          "metadata": {},
          "execution_count": 6
        }
      ]
    },
    {
      "cell_type": "code",
      "source": [
        "x=torch.rand(3,1)\n",
        "print(x)\n",
        "x.expand(3,4)"
      ],
      "metadata": {
        "colab": {
          "base_uri": "https://localhost:8080/"
        },
        "id": "mMWxh0CucZi1",
        "outputId": "fd53ffb5-1ec5-4a2d-e236-a15633879122"
      },
      "execution_count": null,
      "outputs": [
        {
          "output_type": "stream",
          "name": "stdout",
          "text": [
            "tensor([[0.6651],\n",
            "        [0.5582],\n",
            "        [0.7857]])\n"
          ]
        },
        {
          "output_type": "execute_result",
          "data": {
            "text/plain": [
              "tensor([[0.6651, 0.6651, 0.6651, 0.6651],\n",
              "        [0.5582, 0.5582, 0.5582, 0.5582],\n",
              "        [0.7857, 0.7857, 0.7857, 0.7857]])"
            ]
          },
          "metadata": {},
          "execution_count": 7
        }
      ]
    },
    {
      "cell_type": "code",
      "source": [
        "t2=torch.rand(3,1,3)\n",
        "t2.expand(3,4,3)\n",
        "\n",
        "#You can only expand singelton tensor and the orignal tensor should have singeton tensor dimension"
      ],
      "metadata": {
        "colab": {
          "base_uri": "https://localhost:8080/"
        },
        "id": "1pVBWTQcgTOm",
        "outputId": "829fd580-f468-4081-b879-dec8f577ca8a"
      },
      "execution_count": null,
      "outputs": [
        {
          "output_type": "execute_result",
          "data": {
            "text/plain": [
              "tensor([[[0.5605, 0.9843, 0.4186],\n",
              "         [0.5605, 0.9843, 0.4186],\n",
              "         [0.5605, 0.9843, 0.4186],\n",
              "         [0.5605, 0.9843, 0.4186]],\n",
              "\n",
              "        [[0.4933, 0.1137, 0.1808],\n",
              "         [0.4933, 0.1137, 0.1808],\n",
              "         [0.4933, 0.1137, 0.1808],\n",
              "         [0.4933, 0.1137, 0.1808]],\n",
              "\n",
              "        [[0.8184, 0.6625, 0.0896],\n",
              "         [0.8184, 0.6625, 0.0896],\n",
              "         [0.8184, 0.6625, 0.0896],\n",
              "         [0.8184, 0.6625, 0.0896]]])"
            ]
          },
          "metadata": {},
          "execution_count": 8
        }
      ]
    },
    {
      "cell_type": "code",
      "source": [
        "r1=torch.rand(1,2)\n",
        "r1.expand(4,2)"
      ],
      "metadata": {
        "colab": {
          "base_uri": "https://localhost:8080/"
        },
        "id": "ZwH1V4R6ifbN",
        "outputId": "42c578bf-598f-48f7-cf87-3a76b1a23140"
      },
      "execution_count": null,
      "outputs": [
        {
          "output_type": "execute_result",
          "data": {
            "text/plain": [
              "tensor([[0.1409, 0.8075],\n",
              "        [0.1409, 0.8075],\n",
              "        [0.1409, 0.8075],\n",
              "        [0.1409, 0.8075]])"
            ]
          },
          "metadata": {},
          "execution_count": 9
        }
      ]
    },
    {
      "cell_type": "code",
      "source": [
        "a=torch.rand(3,3)\n",
        "b=torch.rand(3,3)\n",
        "\n",
        "comb=torch.hstack([a,b])\n",
        "print(comb)\n",
        "\n",
        "comb2=torch.vstack([a,b])\n",
        "print(comb2)"
      ],
      "metadata": {
        "colab": {
          "base_uri": "https://localhost:8080/"
        },
        "id": "e_iBkjrUeEHD",
        "outputId": "0fa2e043-3798-452e-a591-4c4acead8762"
      },
      "execution_count": null,
      "outputs": [
        {
          "output_type": "stream",
          "name": "stdout",
          "text": [
            "tensor([[0.5012, 0.1616, 0.7593, 0.1138, 0.5901, 0.9423],\n",
            "        [0.1073, 0.3066, 0.7441, 0.7415, 0.1720, 0.8954],\n",
            "        [0.3552, 0.0608, 0.6991, 0.4282, 0.4737, 0.0352]])\n",
            "tensor([[0.5012, 0.1616, 0.7593],\n",
            "        [0.1073, 0.3066, 0.7441],\n",
            "        [0.3552, 0.0608, 0.6991],\n",
            "        [0.1138, 0.5901, 0.9423],\n",
            "        [0.7415, 0.1720, 0.8954],\n",
            "        [0.4282, 0.4737, 0.0352]])\n"
          ]
        }
      ]
    },
    {
      "cell_type": "code",
      "source": [
        "comb_dim1=torch.stack([a,b],dim=1)\n",
        "print(comb_dim1)\n",
        "comb_dim2=torch.stack([a,b],dim=0)\n",
        "print(comb_dim2)"
      ],
      "metadata": {
        "colab": {
          "base_uri": "https://localhost:8080/"
        },
        "id": "d5nybhTMeTwY",
        "outputId": "34e80401-6380-4149-9b34-bf3972edfd61"
      },
      "execution_count": null,
      "outputs": [
        {
          "output_type": "stream",
          "name": "stdout",
          "text": [
            "tensor([[[0.5012, 0.1616, 0.7593],\n",
            "         [0.1138, 0.5901, 0.9423]],\n",
            "\n",
            "        [[0.1073, 0.3066, 0.7441],\n",
            "         [0.7415, 0.1720, 0.8954]],\n",
            "\n",
            "        [[0.3552, 0.0608, 0.6991],\n",
            "         [0.4282, 0.4737, 0.0352]]])\n",
            "tensor([[[0.5012, 0.1616, 0.7593],\n",
            "         [0.1073, 0.3066, 0.7441],\n",
            "         [0.3552, 0.0608, 0.6991]],\n",
            "\n",
            "        [[0.1138, 0.5901, 0.9423],\n",
            "         [0.7415, 0.1720, 0.8954],\n",
            "         [0.4282, 0.4737, 0.0352]]])\n"
          ]
        }
      ]
    },
    {
      "cell_type": "code",
      "source": [
        "t=torch.tensor([[1,2],[3,4]])\n",
        "print(t.shape)\n",
        "t=t.unsqueeze(1)#Adding singelton dimension in the mentioned dim\n",
        "print(t.shape)\n",
        "t=t.unsqueeze(3)\n",
        "print(t.shape)\n",
        "t=t.squeeze(-1)#Removing dimension\n",
        "print(t.shape)\n",
        "t=t.squeeze(1)\n",
        "print(t.shape)"
      ],
      "metadata": {
        "colab": {
          "base_uri": "https://localhost:8080/"
        },
        "id": "z6CDhAcJlRkV",
        "outputId": "f5953fcb-97fd-45db-c280-f9646f1e399f"
      },
      "execution_count": null,
      "outputs": [
        {
          "output_type": "stream",
          "name": "stdout",
          "text": [
            "torch.Size([2, 2])\n",
            "torch.Size([2, 1, 2])\n",
            "torch.Size([2, 1, 2, 1])\n",
            "torch.Size([2, 1, 2])\n",
            "torch.Size([2, 2])\n"
          ]
        }
      ]
    },
    {
      "cell_type": "code",
      "source": [
        "#Batch matrix product\n",
        "a1=torch.rand(5,3,4)\n",
        "a2=torch.rand(5,4,7)\n",
        "z=torch.bmm(a1,a2)\n",
        "z.shape"
      ],
      "metadata": {
        "colab": {
          "base_uri": "https://localhost:8080/"
        },
        "id": "YAMAQmjqebnN",
        "outputId": "908f4294-49b8-41f2-bd59-4e8954774892"
      },
      "execution_count": null,
      "outputs": [
        {
          "output_type": "execute_result",
          "data": {
            "text/plain": [
              "torch.Size([5, 3, 7])"
            ]
          },
          "metadata": {},
          "execution_count": 13
        }
      ]
    },
    {
      "cell_type": "code",
      "source": [
        "a=torch.rand(3,4,5)\n",
        "b=torch.rand(3,5,4)\n",
        "c=torch.bmm(a,b)\n",
        "c.shape"
      ],
      "metadata": {
        "colab": {
          "base_uri": "https://localhost:8080/"
        },
        "id": "eNm1_5TZ6E_P",
        "outputId": "52b6dd69-9ed8-4647-8a4d-35eae0cadb42"
      },
      "execution_count": null,
      "outputs": [
        {
          "output_type": "execute_result",
          "data": {
            "text/plain": [
              "torch.Size([3, 4, 4])"
            ]
          },
          "metadata": {},
          "execution_count": 14
        }
      ]
    },
    {
      "cell_type": "code",
      "source": [
        "a=torch.rand(3,4,5)\n",
        "b=torch.rand(5,4)\n",
        "b=b.unsqueeze(0)\n",
        "print(b.shape)\n",
        "b=b.expand(3,5,4)\n",
        "print(b.shape)\n",
        "c=torch.bmm(a,b)\n",
        "print(c.shape)"
      ],
      "metadata": {
        "colab": {
          "base_uri": "https://localhost:8080/"
        },
        "id": "o--gVsJK7feV",
        "outputId": "986cc169-cc95-4180-86d6-857e9f629332"
      },
      "execution_count": null,
      "outputs": [
        {
          "output_type": "stream",
          "name": "stdout",
          "text": [
            "torch.Size([1, 5, 4])\n",
            "torch.Size([3, 5, 4])\n",
            "torch.Size([3, 4, 4])\n"
          ]
        }
      ]
    },
    {
      "cell_type": "code",
      "source": [
        "x=torch.arange(6,)\n",
        "print(x)\n",
        "x=x.view(2,3)\n",
        "print(x)\n",
        "print(x.shape)\n",
        "print(torch.sum(x,dim=0))\n",
        "print(torch.sum(x,dim=1))"
      ],
      "metadata": {
        "colab": {
          "base_uri": "https://localhost:8080/"
        },
        "id": "ARbDjrp27r6V",
        "outputId": "5fbc52da-0ea8-4ee2-f58e-8a4bea1b3b99"
      },
      "execution_count": null,
      "outputs": [
        {
          "output_type": "stream",
          "name": "stdout",
          "text": [
            "tensor([0, 1, 2, 3, 4, 5])\n",
            "tensor([[0, 1, 2],\n",
            "        [3, 4, 5]])\n",
            "torch.Size([2, 3])\n",
            "tensor([3, 5, 7])\n",
            "tensor([ 3, 12])\n"
          ]
        }
      ]
    },
    {
      "cell_type": "code",
      "source": [
        "torch.transpose(x,0,1) #Dim 0 and Dim 1 are swapped"
      ],
      "metadata": {
        "colab": {
          "base_uri": "https://localhost:8080/"
        },
        "id": "Isx8WFgq9iqK",
        "outputId": "9544c884-e164-4098-8b74-74bdffd81fb6"
      },
      "execution_count": null,
      "outputs": [
        {
          "output_type": "execute_result",
          "data": {
            "text/plain": [
              "tensor([[0, 3],\n",
              "        [1, 4],\n",
              "        [2, 5]])"
            ]
          },
          "metadata": {},
          "execution_count": 17
        }
      ]
    },
    {
      "cell_type": "code",
      "source": [
        "y=torch.rand(3,4,5,6)\n",
        "print(y.shape)\n",
        "yt=torch.transpose(y,2,3) # dim 2 and dim 3 are swapped\n",
        "print(yt.shape)"
      ],
      "metadata": {
        "colab": {
          "base_uri": "https://localhost:8080/"
        },
        "id": "cY2RAOjb-dRh",
        "outputId": "465be895-b794-457d-e3af-2eb90e9d1cc2"
      },
      "execution_count": null,
      "outputs": [
        {
          "output_type": "stream",
          "name": "stdout",
          "text": [
            "torch.Size([3, 4, 5, 6])\n",
            "torch.Size([3, 4, 6, 5])\n"
          ]
        }
      ]
    },
    {
      "cell_type": "code",
      "source": [
        "s=torch.arange(15).view(3,5)\n",
        "s"
      ],
      "metadata": {
        "colab": {
          "base_uri": "https://localhost:8080/"
        },
        "id": "VVL-pHES-mFP",
        "outputId": "101111ab-9f97-40bc-b701-c660d41088fc"
      },
      "execution_count": null,
      "outputs": [
        {
          "output_type": "execute_result",
          "data": {
            "text/plain": [
              "tensor([[ 0,  1,  2,  3,  4],\n",
              "        [ 5,  6,  7,  8,  9],\n",
              "        [10, 11, 12, 13, 14]])"
            ]
          },
          "metadata": {},
          "execution_count": 19
        }
      ]
    },
    {
      "cell_type": "code",
      "source": [
        "s[:2,1:3]  #Slicing"
      ],
      "metadata": {
        "colab": {
          "base_uri": "https://localhost:8080/"
        },
        "id": "qGRqa2jeABtL",
        "outputId": "1c10a5c7-2843-4e3a-f899-b291765a03e5"
      },
      "execution_count": null,
      "outputs": [
        {
          "output_type": "execute_result",
          "data": {
            "text/plain": [
              "tensor([[1, 2],\n",
              "        [6, 7]])"
            ]
          },
          "metadata": {},
          "execution_count": 20
        }
      ]
    },
    {
      "cell_type": "code",
      "source": [
        "s.dtype"
      ],
      "metadata": {
        "colab": {
          "base_uri": "https://localhost:8080/"
        },
        "id": "HJkIhoedAlf-",
        "outputId": "fc44980e-7e9c-4d33-e75e-b92e9594e9a6"
      },
      "execution_count": null,
      "outputs": [
        {
          "output_type": "execute_result",
          "data": {
            "text/plain": [
              "torch.int64"
            ]
          },
          "metadata": {},
          "execution_count": 21
        }
      ]
    },
    {
      "cell_type": "code",
      "source": [
        "indices = torch.LongTensor([0, 2])\n",
        "indices.dtype"
      ],
      "metadata": {
        "colab": {
          "base_uri": "https://localhost:8080/"
        },
        "id": "In29XI5XA9fO",
        "outputId": "81ee869a-144e-4579-be37-e2801d012bc7"
      },
      "execution_count": null,
      "outputs": [
        {
          "output_type": "execute_result",
          "data": {
            "text/plain": [
              "torch.int64"
            ]
          },
          "metadata": {},
          "execution_count": 22
        }
      ]
    },
    {
      "cell_type": "code",
      "source": [
        "# making tensor fill with same tensor\n",
        "x=torch.ones(4,5)\n",
        "x.fill_(5)\n",
        "x"
      ],
      "metadata": {
        "colab": {
          "base_uri": "https://localhost:8080/"
        },
        "id": "X0P8aPeKCoFx",
        "outputId": "ff03a917-273b-4937-dde3-d3d0cf106ccd"
      },
      "execution_count": null,
      "outputs": [
        {
          "output_type": "execute_result",
          "data": {
            "text/plain": [
              "tensor([[5., 5., 5., 5., 5.],\n",
              "        [5., 5., 5., 5., 5.],\n",
              "        [5., 5., 5., 5., 5.],\n",
              "        [5., 5., 5., 5., 5.]])"
            ]
          },
          "metadata": {},
          "execution_count": 23
        }
      ]
    },
    {
      "cell_type": "code",
      "source": [
        "torch.sigmoid(torch.tensor(12))"
      ],
      "metadata": {
        "colab": {
          "base_uri": "https://localhost:8080/"
        },
        "id": "NgJgnNzKcZbr",
        "outputId": "394babb2-f744-43e8-9b34-e2f35c4df18b"
      },
      "execution_count": null,
      "outputs": [
        {
          "output_type": "execute_result",
          "data": {
            "text/plain": [
              "tensor(1.0000)"
            ]
          },
          "metadata": {},
          "execution_count": 24
        }
      ]
    },
    {
      "cell_type": "code",
      "source": [
        "1/(1+torch.exp(torch.tensor(-12)))"
      ],
      "metadata": {
        "colab": {
          "base_uri": "https://localhost:8080/"
        },
        "id": "JcfEmwrjgoI-",
        "outputId": "fe7ab939-4600-42e8-b4f8-89f1fa0c8335"
      },
      "execution_count": null,
      "outputs": [
        {
          "output_type": "execute_result",
          "data": {
            "text/plain": [
              "tensor(1.0000)"
            ]
          },
          "metadata": {},
          "execution_count": 25
        }
      ]
    },
    {
      "cell_type": "code",
      "source": [
        "import matplotlib.pyplot as plt"
      ],
      "metadata": {
        "id": "GFQLRpPkiaQm"
      },
      "execution_count": null,
      "outputs": []
    },
    {
      "cell_type": "code",
      "source": [
        "x=torch.range(-5.,5.,0.1)\n",
        "y=torch.sigmoid(x)\n",
        "\n",
        "plt.plot(x.numpy(),y.numpy())\n",
        "plt.show()"
      ],
      "metadata": {
        "colab": {
          "base_uri": "https://localhost:8080/",
          "height": 485
        },
        "id": "h0kDn40YmE9r",
        "outputId": "98bcf9a7-c269-4534-c861-f5f13cb0dd6d"
      },
      "execution_count": null,
      "outputs": [
        {
          "output_type": "stream",
          "name": "stderr",
          "text": [
            "<ipython-input-27-7c7f0e465e95>:1: UserWarning: torch.range is deprecated and will be removed in a future release because its behavior is inconsistent with Python's range builtin. Instead, use torch.arange, which produces values in [start, end).\n",
            "  x=torch.range(-5.,5.,0.1)\n"
          ]
        },
        {
          "output_type": "display_data",
          "data": {
            "text/plain": [
              "<Figure size 640x480 with 1 Axes>"
            ],
            "image/png": "[encoded data removed]"
          },
          "metadata": {}
        }
      ]
    },
    {
      "cell_type": "code",
      "source": [
        "x = torch.range(-5., 5., 0.1)\n",
        "relu=torch.nn.ReLU()\n",
        "y=relu(x)\n",
        "plt.plot(x.numpy(),y.numpy())\n",
        "plt.show()"
      ],
      "metadata": {
        "colab": {
          "base_uri": "https://localhost:8080/",
          "height": 485
        },
        "id": "bKCNLmiVoDMM",
        "outputId": "f45b10f3-b145-4317-c4f1-dcd8777b7da6"
      },
      "execution_count": null,
      "outputs": [
        {
          "output_type": "stream",
          "name": "stderr",
          "text": [
            "<ipython-input-28-6ee02c85d261>:1: UserWarning: torch.range is deprecated and will be removed in a future release because its behavior is inconsistent with Python's range builtin. Instead, use torch.arange, which produces values in [start, end).\n",
            "  x = torch.range(-5., 5., 0.1)\n"
          ]
        },
        {
          "output_type": "display_data",
          "data": {
            "text/plain": [
              "<Figure size 640x480 with 1 Axes>"
            ],
            "image/png": "[encoded data removed]"
          },
          "metadata": {}
        }
      ]
    },
    {
      "cell_type": "code",
      "source": [
        "softmax=torch.nn.Softmax(dim=1)\n",
        "x_in=torch.randn(1,3)\n",
        "y_out=softmax(x_in)\n",
        "print(x_in)\n",
        "print(y_out)\n",
        "print(torch.sum(y_out,dim=1))"
      ],
      "metadata": {
        "colab": {
          "base_uri": "https://localhost:8080/"
        },
        "id": "51Nc9FpMoOV5",
        "outputId": "d3a11437-bbed-419c-8500-56aaad2f45a0"
      },
      "execution_count": null,
      "outputs": [
        {
          "output_type": "stream",
          "name": "stdout",
          "text": [
            "tensor([[-0.4836,  0.7245, -0.4198]])\n",
            "tensor([[0.1847, 0.6184, 0.1969]])\n",
            "tensor([1.])\n"
          ]
        }
      ]
    },
    {
      "cell_type": "code",
      "source": [
        "mse_loss=torch.nn.MSELoss()\n",
        "\n",
        "input=torch.randn(3,5,requires_grad=True)\n",
        "targets=torch.randn(3,5)\n",
        "\n",
        "\n",
        "loss=mse_loss(input,targets)\n",
        "print(loss)"
      ],
      "metadata": {
        "colab": {
          "base_uri": "https://localhost:8080/"
        },
        "id": "fQAHf3vHr85K",
        "outputId": "e2d04e32-abcd-4b25-8e2a-edf67c183aec"
      },
      "execution_count": null,
      "outputs": [
        {
          "output_type": "stream",
          "name": "stdout",
          "text": [
            "tensor(2.0777, grad_fn=<MseLossBackward0>)\n"
          ]
        }
      ]
    },
    {
      "cell_type": "code",
      "source": [
        "ce_loss=torch.nn.CrossEntropyLoss()\n",
        "outputs=torch.randn(3,5,requires_grad=True)\n",
        "target=torch.tensor([1,0,3],dtype=torch.int64)\n",
        "loss=ce_loss(outputs,target)\n",
        "loss"
      ],
      "metadata": {
        "colab": {
          "base_uri": "https://localhost:8080/"
        },
        "id": "3NMhseM6zTVZ",
        "outputId": "2b4d85bf-34b4-4b19-cf38-515e03b2d53a"
      },
      "execution_count": null,
      "outputs": [
        {
          "output_type": "execute_result",
          "data": {
            "text/plain": [
              "tensor(1.7904, grad_fn=<NllLossBackward0>)"
            ]
          },
          "metadata": {},
          "execution_count": 31
        }
      ]
    },
    {
      "cell_type": "code",
      "source": [
        "bce_loss=torch.nn.BCELoss()\n",
        "sigmoid=torch.nn.Sigmoid()\n",
        "probs=sigmoid(torch.randn(4,1,requires_grad=True))\n",
        "target=torch.tensor([1,0,1,0],dtype=torch.float32).view(4,1)\n",
        "\n",
        "loss=bce_loss(probs,target)\n",
        "print(probs)\n",
        "print(loss)"
      ],
      "metadata": {
        "colab": {
          "base_uri": "https://localhost:8080/"
        },
        "id": "WM83qp_Q1dak",
        "outputId": "5ae405a4-61dc-43bf-b3f9-ccffc0d564c5"
      },
      "execution_count": null,
      "outputs": [
        {
          "output_type": "stream",
          "name": "stdout",
          "text": [
            "tensor([[0.8372],\n",
            "        [0.3280],\n",
            "        [0.5436],\n",
            "        [0.4350]], grad_fn=<SigmoidBackward0>)\n",
            "tensor(0.4389, grad_fn=<BinaryCrossEntropyBackward0>)\n"
          ]
        }
      ]
    },
    {
      "cell_type": "code",
      "source": [
        "#Implementing Perceptron\n",
        "import torch.nn as nn\n",
        "\n",
        "class Perceptron(nn.Module):\n",
        "  def __init__(self,in_dim):\n",
        "    super(Perceptron).__init__()\n",
        "    self.fc1=nn.Linear(in_dim,1)\n",
        "\n",
        "  def forward(self,x_in):\n",
        "    return torch.sigmoid(self.fc1(x)).squueze()"
      ],
      "metadata": {
        "id": "twkYUxyI3OkF"
      },
      "execution_count": null,
      "outputs": []
    },
    {
      "cell_type": "code",
      "source": [
        "x=torch.randn(4,3)\n",
        "sample=torch.nn.Linear(3,2)\n",
        "out=sample(x)\n",
        "print(out)\n",
        "sig=torch.sigmoid(out)\n",
        "print(sig.shape)\n",
        "sig=sig.squeeze()\n",
        "print(sig.squeeze().shape)"
      ],
      "metadata": {
        "colab": {
          "base_uri": "https://localhost:8080/"
        },
        "id": "F9ctU4Y44Dao",
        "outputId": "162a21ff-228e-4f3f-aef1-e32714c82af7"
      },
      "execution_count": null,
      "outputs": [
        {
          "output_type": "stream",
          "name": "stdout",
          "text": [
            "tensor([[-0.0708, -0.5860],\n",
            "        [ 0.3776,  0.3053],\n",
            "        [-0.1921, -0.4244],\n",
            "        [-0.6561,  0.7173]], grad_fn=<AddmmBackward0>)\n",
            "torch.Size([4, 2])\n",
            "torch.Size([4, 2])\n"
          ]
        }
      ]
    },
    {
      "cell_type": "code",
      "source": [
        "# !pip install -q kaggle\n",
        "# from google.colab import files\n",
        "# files.upload()\n",
        "# ! mkdir ~/.kaggle\n",
        "# ! cp kaggle.json ~/.kaggle/\n",
        "# ! chmod 600 ~/.kaggle/kaggle.json\n",
        "# !kaggle datasets download -d yelp-dataset/yelp-dataset\n",
        "# ! unzip \"yelp-dataset.zip\""
      ],
      "metadata": {
        "id": "eiNs-pl_4I7j"
      },
      "execution_count": null,
      "outputs": []
    },
    {
      "cell_type": "code",
      "source": [],
      "metadata": {
        "id": "HF1YL1FK_N36"
      },
      "execution_count": null,
      "outputs": []
    },
    {
      "cell_type": "code",
      "source": [],
      "metadata": {
        "id": "9JeZcHwz_dhM"
      },
      "execution_count": null,
      "outputs": []
    }
  ]
}