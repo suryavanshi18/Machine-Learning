{
  "nbformat": 4,
  "nbformat_minor": 0,
  "metadata": {
    "colab": {
      "provenance": []
    },
    "kernelspec": {
      "name": "python3",
      "display_name": "Python 3"
    },
    "language_info": {
      "name": "python"
    }
  },
  "cells": [
    {
      "cell_type": "code",
      "execution_count": 44,
      "metadata": {
        "id": "Y5v0PTB0tlEz"
      },
      "outputs": [],
      "source": [
        "import torch\n",
        "import torch.nn as nn\n",
        "import numpy as np"
      ]
    },
    {
      "cell_type": "code",
      "source": [
        "weight=torch.tensor([2,2])\n",
        "print(weight)\n",
        "print(weight.shape)"
      ],
      "metadata": {
        "colab": {
          "base_uri": "https://localhost:8080/"
        },
        "id": "LQhd0XGX68VL",
        "outputId": "7736c15c-0d78-4cd4-8dea-ebbd2a599c89"
      },
      "execution_count": 45,
      "outputs": [
        {
          "output_type": "stream",
          "name": "stdout",
          "text": [
            "tensor([2, 2])\n",
            "torch.Size([2])\n"
          ]
        }
      ]
    },
    {
      "cell_type": "markdown",
      "source": [
        "Difference between torch.tensor and torch.Tensor is that<br>\n",
        "Tensor is a constructor and is depricated.You can create a <br>\n",
        "torch tensor by specifing its size->torch.Tensor(3,4) or by<br>\n",
        "creating the tensor from the data itself torch.Tensor([2,2])<br>\n",
        "whereas in torch.tensor, you can only create the tensor from the data-> torch.tensor([2,2])\n"
      ],
      "metadata": {
        "id": "OacE7gTpNsj9"
      }
    },
    {
      "cell_type": "code",
      "source": [
        "torch.Tensor(3,4)"
      ],
      "metadata": {
        "colab": {
          "base_uri": "https://localhost:8080/"
        },
        "id": "2v9XdFDVHkHp",
        "outputId": "4d2c488a-d931-421d-b8d5-1a50a95a92ef"
      },
      "execution_count": 46,
      "outputs": [
        {
          "output_type": "execute_result",
          "data": {
            "text/plain": [
              "tensor([[3.7538e-34, 0.0000e+00, 3.4553e-34, 0.0000e+00],\n",
              "        [1.1210e-43, 0.0000e+00, 8.9683e-44, 0.0000e+00],\n",
              "        [3.7658e-34, 0.0000e+00, 0.0000e+00, 0.0000e+00]])"
            ]
          },
          "metadata": {},
          "execution_count": 46
        }
      ]
    },
    {
      "cell_type": "markdown",
      "source": [
        "#Creating embeddings\n",
        "<p> Embeddings are basically lookup tables. It maps each input to a vector of embedding dimension.<br>\n",
        "## Case 1->When embedding dimension 5 X 3 but i/p dim is 1 X 2"
      ],
      "metadata": {
        "id": "8hi0VUV_blqf"
      }
    },
    {
      "cell_type": "code",
      "source": [
        "embedding = nn.Embedding(num_embeddings=5, embedding_dim=3)\n",
        "output_embedding=embedding(weight)\n",
        "output_embedding"
      ],
      "metadata": {
        "colab": {
          "base_uri": "https://localhost:8080/"
        },
        "id": "8Wtsiulg4ZO4",
        "outputId": "96d470cc-379d-4843-f46f-89159714cad5"
      },
      "execution_count": 47,
      "outputs": [
        {
          "output_type": "execute_result",
          "data": {
            "text/plain": [
              "tensor([[ 1.7223,  0.7466, -0.6251],\n",
              "        [ 1.7223,  0.7466, -0.6251]], grad_fn=<EmbeddingBackward0>)"
            ]
          },
          "metadata": {},
          "execution_count": 47
        }
      ]
    },
    {
      "cell_type": "code",
      "source": [
        "weight=torch.tensor([1,2,3,4,5])\n",
        "weight"
      ],
      "metadata": {
        "colab": {
          "base_uri": "https://localhost:8080/"
        },
        "id": "yeXzqoSpcPQm",
        "outputId": "7f87b11b-0a66-4af0-c045-ce14bb05d04f"
      },
      "execution_count": 48,
      "outputs": [
        {
          "output_type": "execute_result",
          "data": {
            "text/plain": [
              "tensor([1, 2, 3, 4, 5])"
            ]
          },
          "metadata": {},
          "execution_count": 48
        }
      ]
    },
    {
      "cell_type": "markdown",
      "source": [
        "## Case 2->When embedding dimension 5 X 3 but i/p dim is 1 X 4.You can only pass input to embedding till n=4, else we would get error"
      ],
      "metadata": {
        "id": "h9R9HPpdeIQF"
      }
    },
    {
      "cell_type": "code",
      "source": [
        "weight=torch.tensor([1,2,3,4])\n",
        "embedding = nn.Embedding(num_embeddings=5, embedding_dim=3)\n",
        "output_embedding=embedding(weight)\n",
        "output_embedding"
      ],
      "metadata": {
        "colab": {
          "base_uri": "https://localhost:8080/"
        },
        "id": "c-a2b_zlb9ZQ",
        "outputId": "2325d042-cd1b-4e29-e6b8-6ffe6db8c470"
      },
      "execution_count": 49,
      "outputs": [
        {
          "output_type": "execute_result",
          "data": {
            "text/plain": [
              "tensor([[ 0.0793,  0.3433, -0.9515],\n",
              "        [ 0.9396,  0.9042, -0.8752],\n",
              "        [-0.4516,  0.8003, -0.0048],\n",
              "        [ 1.4691,  0.5383, -0.3199]], grad_fn=<EmbeddingBackward0>)"
            ]
          },
          "metadata": {},
          "execution_count": 49
        }
      ]
    },
    {
      "cell_type": "code",
      "source": [
        "#error->index out of range in self\n",
        "weight=torch.tensor([1,2,3,4,5])\n",
        "embedding = nn.Embedding(num_embeddings=5, embedding_dim=3)\n",
        "output_embedding=embedding(weight)\n",
        "output_embedding"
      ],
      "metadata": {
        "colab": {
          "base_uri": "https://localhost:8080/",
          "height": 356
        },
        "collapsed": true,
        "id": "Hzr84JBFD0QL",
        "outputId": "59677e54-1f23-424d-d726-3619cf2e1fb1"
      },
      "execution_count": 50,
      "outputs": [
        {
          "output_type": "error",
          "ename": "IndexError",
          "evalue": "index out of range in self",
          "traceback": [
            "\u001b[0;31m---------------------------------------------------------------------------\u001b[0m",
            "\u001b[0;31mIndexError\u001b[0m                                Traceback (most recent call last)",
            "\u001b[0;32m<ipython-input-50-1a8e773c4d72>\u001b[0m in \u001b[0;36m<cell line: 0>\u001b[0;34m()\u001b[0m\n\u001b[1;32m      2\u001b[0m \u001b[0mweight\u001b[0m\u001b[0;34m=\u001b[0m\u001b[0mtorch\u001b[0m\u001b[0;34m.\u001b[0m\u001b[0mtensor\u001b[0m\u001b[0;34m(\u001b[0m\u001b[0;34m[\u001b[0m\u001b[0;36m1\u001b[0m\u001b[0;34m,\u001b[0m\u001b[0;36m2\u001b[0m\u001b[0;34m,\u001b[0m\u001b[0;36m3\u001b[0m\u001b[0;34m,\u001b[0m\u001b[0;36m4\u001b[0m\u001b[0;34m,\u001b[0m\u001b[0;36m5\u001b[0m\u001b[0;34m]\u001b[0m\u001b[0;34m)\u001b[0m\u001b[0;34m\u001b[0m\u001b[0;34m\u001b[0m\u001b[0m\n\u001b[1;32m      3\u001b[0m \u001b[0membedding\u001b[0m \u001b[0;34m=\u001b[0m \u001b[0mnn\u001b[0m\u001b[0;34m.\u001b[0m\u001b[0mEmbedding\u001b[0m\u001b[0;34m(\u001b[0m\u001b[0mnum_embeddings\u001b[0m\u001b[0;34m=\u001b[0m\u001b[0;36m5\u001b[0m\u001b[0;34m,\u001b[0m \u001b[0membedding_dim\u001b[0m\u001b[0;34m=\u001b[0m\u001b[0;36m3\u001b[0m\u001b[0;34m)\u001b[0m\u001b[0;34m\u001b[0m\u001b[0;34m\u001b[0m\u001b[0m\n\u001b[0;32m----> 4\u001b[0;31m \u001b[0moutput_embedding\u001b[0m\u001b[0;34m=\u001b[0m\u001b[0membedding\u001b[0m\u001b[0;34m(\u001b[0m\u001b[0mweight\u001b[0m\u001b[0;34m)\u001b[0m\u001b[0;34m\u001b[0m\u001b[0;34m\u001b[0m\u001b[0m\n\u001b[0m\u001b[1;32m      5\u001b[0m \u001b[0moutput_embedding\u001b[0m\u001b[0;34m\u001b[0m\u001b[0;34m\u001b[0m\u001b[0m\n",
            "\u001b[0;32m/usr/local/lib/python3.11/dist-packages/torch/nn/modules/module.py\u001b[0m in \u001b[0;36m_wrapped_call_impl\u001b[0;34m(self, *args, **kwargs)\u001b[0m\n\u001b[1;32m   1734\u001b[0m             \u001b[0;32mreturn\u001b[0m \u001b[0mself\u001b[0m\u001b[0;34m.\u001b[0m\u001b[0m_compiled_call_impl\u001b[0m\u001b[0;34m(\u001b[0m\u001b[0;34m*\u001b[0m\u001b[0margs\u001b[0m\u001b[0;34m,\u001b[0m \u001b[0;34m**\u001b[0m\u001b[0mkwargs\u001b[0m\u001b[0;34m)\u001b[0m  \u001b[0;31m# type: ignore[misc]\u001b[0m\u001b[0;34m\u001b[0m\u001b[0;34m\u001b[0m\u001b[0m\n\u001b[1;32m   1735\u001b[0m         \u001b[0;32melse\u001b[0m\u001b[0;34m:\u001b[0m\u001b[0;34m\u001b[0m\u001b[0;34m\u001b[0m\u001b[0m\n\u001b[0;32m-> 1736\u001b[0;31m             \u001b[0;32mreturn\u001b[0m \u001b[0mself\u001b[0m\u001b[0;34m.\u001b[0m\u001b[0m_call_impl\u001b[0m\u001b[0;34m(\u001b[0m\u001b[0;34m*\u001b[0m\u001b[0margs\u001b[0m\u001b[0;34m,\u001b[0m \u001b[0;34m**\u001b[0m\u001b[0mkwargs\u001b[0m\u001b[0;34m)\u001b[0m\u001b[0;34m\u001b[0m\u001b[0;34m\u001b[0m\u001b[0m\n\u001b[0m\u001b[1;32m   1737\u001b[0m \u001b[0;34m\u001b[0m\u001b[0m\n\u001b[1;32m   1738\u001b[0m     \u001b[0;31m# torchrec tests the code consistency with the following code\u001b[0m\u001b[0;34m\u001b[0m\u001b[0;34m\u001b[0m\u001b[0m\n",
            "\u001b[0;32m/usr/local/lib/python3.11/dist-packages/torch/nn/modules/module.py\u001b[0m in \u001b[0;36m_call_impl\u001b[0;34m(self, *args, **kwargs)\u001b[0m\n\u001b[1;32m   1745\u001b[0m                 \u001b[0;32mor\u001b[0m \u001b[0m_global_backward_pre_hooks\u001b[0m \u001b[0;32mor\u001b[0m \u001b[0m_global_backward_hooks\u001b[0m\u001b[0;34m\u001b[0m\u001b[0;34m\u001b[0m\u001b[0m\n\u001b[1;32m   1746\u001b[0m                 or _global_forward_hooks or _global_forward_pre_hooks):\n\u001b[0;32m-> 1747\u001b[0;31m             \u001b[0;32mreturn\u001b[0m \u001b[0mforward_call\u001b[0m\u001b[0;34m(\u001b[0m\u001b[0;34m*\u001b[0m\u001b[0margs\u001b[0m\u001b[0;34m,\u001b[0m \u001b[0;34m**\u001b[0m\u001b[0mkwargs\u001b[0m\u001b[0;34m)\u001b[0m\u001b[0;34m\u001b[0m\u001b[0;34m\u001b[0m\u001b[0m\n\u001b[0m\u001b[1;32m   1748\u001b[0m \u001b[0;34m\u001b[0m\u001b[0m\n\u001b[1;32m   1749\u001b[0m         \u001b[0mresult\u001b[0m \u001b[0;34m=\u001b[0m \u001b[0;32mNone\u001b[0m\u001b[0;34m\u001b[0m\u001b[0;34m\u001b[0m\u001b[0m\n",
            "\u001b[0;32m/usr/local/lib/python3.11/dist-packages/torch/nn/modules/sparse.py\u001b[0m in \u001b[0;36mforward\u001b[0;34m(self, input)\u001b[0m\n\u001b[1;32m    188\u001b[0m \u001b[0;34m\u001b[0m\u001b[0m\n\u001b[1;32m    189\u001b[0m     \u001b[0;32mdef\u001b[0m \u001b[0mforward\u001b[0m\u001b[0;34m(\u001b[0m\u001b[0mself\u001b[0m\u001b[0;34m,\u001b[0m \u001b[0minput\u001b[0m\u001b[0;34m:\u001b[0m \u001b[0mTensor\u001b[0m\u001b[0;34m)\u001b[0m \u001b[0;34m->\u001b[0m \u001b[0mTensor\u001b[0m\u001b[0;34m:\u001b[0m\u001b[0;34m\u001b[0m\u001b[0;34m\u001b[0m\u001b[0m\n\u001b[0;32m--> 190\u001b[0;31m         return F.embedding(\n\u001b[0m\u001b[1;32m    191\u001b[0m             \u001b[0minput\u001b[0m\u001b[0;34m,\u001b[0m\u001b[0;34m\u001b[0m\u001b[0;34m\u001b[0m\u001b[0m\n\u001b[1;32m    192\u001b[0m             \u001b[0mself\u001b[0m\u001b[0;34m.\u001b[0m\u001b[0mweight\u001b[0m\u001b[0;34m,\u001b[0m\u001b[0;34m\u001b[0m\u001b[0;34m\u001b[0m\u001b[0m\n",
            "\u001b[0;32m/usr/local/lib/python3.11/dist-packages/torch/nn/functional.py\u001b[0m in \u001b[0;36membedding\u001b[0;34m(input, weight, padding_idx, max_norm, norm_type, scale_grad_by_freq, sparse)\u001b[0m\n\u001b[1;32m   2549\u001b[0m         \u001b[0;31m# remove once script supports set_grad_enabled\u001b[0m\u001b[0;34m\u001b[0m\u001b[0;34m\u001b[0m\u001b[0m\n\u001b[1;32m   2550\u001b[0m         \u001b[0m_no_grad_embedding_renorm_\u001b[0m\u001b[0;34m(\u001b[0m\u001b[0mweight\u001b[0m\u001b[0;34m,\u001b[0m \u001b[0minput\u001b[0m\u001b[0;34m,\u001b[0m \u001b[0mmax_norm\u001b[0m\u001b[0;34m,\u001b[0m \u001b[0mnorm_type\u001b[0m\u001b[0;34m)\u001b[0m\u001b[0;34m\u001b[0m\u001b[0;34m\u001b[0m\u001b[0m\n\u001b[0;32m-> 2551\u001b[0;31m     \u001b[0;32mreturn\u001b[0m \u001b[0mtorch\u001b[0m\u001b[0;34m.\u001b[0m\u001b[0membedding\u001b[0m\u001b[0;34m(\u001b[0m\u001b[0mweight\u001b[0m\u001b[0;34m,\u001b[0m \u001b[0minput\u001b[0m\u001b[0;34m,\u001b[0m \u001b[0mpadding_idx\u001b[0m\u001b[0;34m,\u001b[0m \u001b[0mscale_grad_by_freq\u001b[0m\u001b[0;34m,\u001b[0m \u001b[0msparse\u001b[0m\u001b[0;34m)\u001b[0m\u001b[0;34m\u001b[0m\u001b[0;34m\u001b[0m\u001b[0m\n\u001b[0m\u001b[1;32m   2552\u001b[0m \u001b[0;34m\u001b[0m\u001b[0m\n\u001b[1;32m   2553\u001b[0m \u001b[0;34m\u001b[0m\u001b[0m\n",
            "\u001b[0;31mIndexError\u001b[0m: index out of range in self"
          ]
        }
      ]
    },
    {
      "cell_type": "code",
      "source": [
        "#Here input dim is 2*3 ,hence n=6 and no. of embedding is 7\n",
        "#Hence, you can create embeddings till n=6\n",
        "weight=torch.tensor([[1,2,3],[4,5,6]])\n",
        "embedding = nn.Embedding(num_embeddings=7, embedding_dim=3)\n",
        "output_embedding=embedding(weight)\n",
        "output_embedding"
      ],
      "metadata": {
        "colab": {
          "base_uri": "https://localhost:8080/"
        },
        "id": "RAHWmYoeDFCA",
        "outputId": "c46f868d-0823-4436-d3d9-07cf186c6cb1"
      },
      "execution_count": 51,
      "outputs": [
        {
          "output_type": "execute_result",
          "data": {
            "text/plain": [
              "tensor([[[-0.5220, -0.0947,  0.8940],\n",
              "         [ 0.5418, -0.2623,  0.0467],\n",
              "         [-0.1404,  1.7933, -0.2034]],\n",
              "\n",
              "        [[ 1.1083, -0.6700, -0.5205],\n",
              "         [ 0.1093, -0.2170,  2.2539],\n",
              "         [ 0.0143,  0.0039, -0.2635]]], grad_fn=<EmbeddingBackward0>)"
            ]
          },
          "metadata": {},
          "execution_count": 51
        }
      ]
    },
    {
      "cell_type": "code",
      "source": [
        "output_embedding[1][0]"
      ],
      "metadata": {
        "colab": {
          "base_uri": "https://localhost:8080/"
        },
        "id": "NCVJ1i4OjiWu",
        "outputId": "3ce8df9f-f430-4d65-f86d-e44594d78de5"
      },
      "execution_count": 52,
      "outputs": [
        {
          "output_type": "execute_result",
          "data": {
            "text/plain": [
              "tensor([ 1.1083, -0.6700, -0.5205], grad_fn=<SelectBackward0>)"
            ]
          },
          "metadata": {},
          "execution_count": 52
        }
      ]
    },
    {
      "cell_type": "markdown",
      "source": [
        "#Parameter"
      ],
      "metadata": {
        "id": "qydWtzdQkvM_"
      }
    },
    {
      "cell_type": "markdown",
      "source": [
        "torch.nn.Parameter is a specialized subclass of torch.Tensor in PyTorch, designed to explicitly define trainable parameters within a neural network module.<br>\n",
        "When a torch.nn.Parameter is assigned as an attribute of an nn.Module, it is automatically added to the module's list of parameters.<br>\n",
        "nn.Parameter is created with requires_grad=True"
      ],
      "metadata": {
        "id": "bOVBt-8Ow2lJ"
      }
    },
    {
      "cell_type": "code",
      "source": [
        "nn.Parameter(torch.Tensor(2,3))"
      ],
      "metadata": {
        "colab": {
          "base_uri": "https://localhost:8080/"
        },
        "id": "k3ReWx98Bih_",
        "outputId": "a21bc121-6b7f-4153-ecc9-3797713bc06c"
      },
      "execution_count": 53,
      "outputs": [
        {
          "output_type": "execute_result",
          "data": {
            "text/plain": [
              "Parameter containing:\n",
              "tensor([[6.5236e+24, 4.4521e-41, 3.4773e-34],\n",
              "        [0.0000e+00, 2.6229e-01, 4.6749e-02]], requires_grad=True)"
            ]
          },
          "metadata": {},
          "execution_count": 53
        }
      ]
    },
    {
      "cell_type": "code",
      "source": [
        "#nn.Module is the base class for all neural networks. It contains neccessary parameters and methods\n",
        "class CustomModel(nn.Module):\n",
        "  def __init__(self):\n",
        "    # Initializing parent class with child class constructor\n",
        "    # Ensures attributes and methods of parent class (nn.Module) are properly setup\n",
        "    # super(CustomModel,self).__init__() -> does the same job as super().__init__()\n",
        "    super().__init__()\n",
        "    self.weight=nn.Parameter(torch.Tensor([2,3,4,1]))\n",
        "    self.bias=torch.randn(1)\n",
        "  def forward(self,x):\n",
        "    return x*self.weight\n",
        "model=CustomModel()\n",
        "#Only self.weight will be registered as parameter of CustomModel class\n",
        "print(list(model.named_parameters()))"
      ],
      "metadata": {
        "colab": {
          "base_uri": "https://localhost:8080/"
        },
        "id": "Kngdn6e2Bqp6",
        "outputId": "3d6d5007-2f0b-4449-92d4-4a46351a6653"
      },
      "execution_count": 54,
      "outputs": [
        {
          "output_type": "stream",
          "name": "stdout",
          "text": [
            "[('weight', Parameter containing:\n",
            "tensor([2., 3., 4., 1.], requires_grad=True))]\n"
          ]
        }
      ]
    },
    {
      "cell_type": "markdown",
      "source": [
        "# nn.Linear\n",
        "\n",
        "Applies linear transformation to the input data<br>\n",
        "y=x*W.T+b<br>\n",
        "nn.Linear(input_dim,output_dim)\n",
        "![image.png](data:image/png;base64,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)"
      ],
      "metadata": {
        "id": "mskYY-wyD-NI"
      }
    },
    {
      "cell_type": "code",
      "source": [
        "input=torch.randn(4,3) # 4 rows and 3 cols -> 4 datapoints and 3 features\n",
        "linear_layer=nn.Linear(3,2) # 3 input features and 2 output cols\n",
        "output=linear_layer(input)\n",
        "print(output) #output dim is 4 X 2"
      ],
      "metadata": {
        "colab": {
          "base_uri": "https://localhost:8080/"
        },
        "id": "YUFm6d1U8HCf",
        "outputId": "e0bb893e-8bdd-4d9b-af99-a44386efe190"
      },
      "execution_count": 55,
      "outputs": [
        {
          "output_type": "stream",
          "name": "stdout",
          "text": [
            "tensor([[-1.0256, -0.0452],\n",
            "        [-0.3241, -0.8337],\n",
            "        [ 0.3460, -0.1179],\n",
            "        [-1.0209, -0.4112]], grad_fn=<AddmmBackward0>)\n"
          ]
        }
      ]
    },
    {
      "cell_type": "code",
      "source": [
        "#Checking\n",
        "weight=linear_layer.weight #Dim 3 X 2\n",
        "bias=linear_layer.bias #Dim 1 X 2\n",
        "print(weight,\" \",bias)"
      ],
      "metadata": {
        "colab": {
          "base_uri": "https://localhost:8080/"
        },
        "id": "_i8gnopgEWsT",
        "outputId": "845d60df-8080-4b8d-fc9f-84e74b2c3a27"
      },
      "execution_count": 56,
      "outputs": [
        {
          "output_type": "stream",
          "name": "stdout",
          "text": [
            "Parameter containing:\n",
            "tensor([[-0.1295, -0.2838,  0.5125],\n",
            "        [ 0.5717, -0.1529, -0.0165]], requires_grad=True)   Parameter containing:\n",
            "tensor([-0.0767, -0.2461], requires_grad=True)\n"
          ]
        }
      ]
    },
    {
      "cell_type": "code",
      "source": [
        "y=input@weight.t()+bias\n",
        "print(y)"
      ],
      "metadata": {
        "colab": {
          "base_uri": "https://localhost:8080/"
        },
        "id": "WB-TltJCIZ4w",
        "outputId": "da1612db-ee74-4985-cd26-b3132fb1c669"
      },
      "execution_count": 57,
      "outputs": [
        {
          "output_type": "stream",
          "name": "stdout",
          "text": [
            "tensor([[-1.0256, -0.0452],\n",
            "        [-0.3241, -0.8337],\n",
            "        [ 0.3460, -0.1179],\n",
            "        [-1.0209, -0.4112]], grad_fn=<AddBackward0>)\n"
          ]
        }
      ]
    },
    {
      "cell_type": "code",
      "source": [
        "#Custom Intitalization of weights and bias\n",
        "sample_linear=nn.Linear(3,3)\n",
        "sample_linear.weight.data.uniform_(-10,10)\n",
        "if sample_linear.bias is not None:\n",
        "    sample_linear.bias.data.uniform_(-8, 8)\n",
        "print(\"Weights\",sample_linear.weight)\n",
        "print(\"Bias\",sample_linear.bias)"
      ],
      "metadata": {
        "colab": {
          "base_uri": "https://localhost:8080/"
        },
        "id": "1Ia29en7JUXH",
        "outputId": "50fcdf97-f828-44ab-c24c-8481baab86e2"
      },
      "execution_count": 65,
      "outputs": [
        {
          "output_type": "stream",
          "name": "stdout",
          "text": [
            "Weights Parameter containing:\n",
            "tensor([[ 9.2840, -1.9928, -0.5251],\n",
            "        [ 3.9349, -5.1233, -8.4494],\n",
            "        [-8.8879,  6.8081, -3.2403]], requires_grad=True)\n",
            "Bias Parameter containing:\n",
            "tensor([-7.1964,  5.1503, -7.1860], requires_grad=True)\n"
          ]
        }
      ]
    }
  ]
}